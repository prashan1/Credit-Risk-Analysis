{
  "nbformat": 4,
  "nbformat_minor": 0,
  "metadata": {
    "kernelspec": {
      "display_name": "Python 3",
      "language": "python",
      "name": "python3"
    },
    "language_info": {
      "codemirror_mode": {
        "name": "ipython",
        "version": 3
      },
      "file_extension": ".py",
      "mimetype": "text/x-python",
      "name": "python",
      "nbconvert_exporter": "python",
      "pygments_lexer": "ipython3",
      "version": "3.7.4"
    },
    "colab": {
      "name": "Credit_risk_prediction.ipynb",
      "provenance": [],
      "collapsed_sections": []
    },
    "accelerator": "GPU"
  },
  "cells": [
    {
      "cell_type": "code",
      "metadata": {
        "id": "uhJeegNKojYn"
      },
      "source": [
        "import pandas as pd\n",
        "import numpy as np\n",
        "from matplotlib import pyplot as plt\n",
        "import seaborn as sns\n",
        "import collections"
      ],
      "execution_count": null,
      "outputs": []
    },
    {
      "cell_type": "code",
      "metadata": {
        "id": "6icJSqJNojYs"
      },
      "source": [
        "train = pd.read_csv('/content/cs-training.csv')\n",
        "test = pd.read_csv('/content/cs-test.csv')\n",
        "sample = pd.read_csv('/content/sampleEntry.csv')\n"
      ],
      "execution_count": null,
      "outputs": []
    },
    {
      "cell_type": "code",
      "metadata": {
        "id": "D_9k51sYojYx",
        "outputId": "ee4c523c-f970-4a91-fc6a-d4238c906710",
        "colab": {
          "base_uri": "https://localhost:8080/",
          "height": 456
        }
      },
      "source": [
        "train"
      ],
      "execution_count": null,
      "outputs": [
        {
          "output_type": "execute_result",
          "data": {
            "text/html": [
              "<div>\n",
              "<style scoped>\n",
              "    .dataframe tbody tr th:only-of-type {\n",
              "        vertical-align: middle;\n",
              "    }\n",
              "\n",
              "    .dataframe tbody tr th {\n",
              "        vertical-align: top;\n",
              "    }\n",
              "\n",
              "    .dataframe thead th {\n",
              "        text-align: right;\n",
              "    }\n",
              "</style>\n",
              "<table border=\"1\" class=\"dataframe\">\n",
              "  <thead>\n",
              "    <tr style=\"text-align: right;\">\n",
              "      <th></th>\n",
              "      <th>Unnamed: 0</th>\n",
              "      <th>SeriousDlqin2yrs</th>\n",
              "      <th>RevolvingUtilizationOfUnsecuredLines</th>\n",
              "      <th>age</th>\n",
              "      <th>NumberOfTime30-59DaysPastDueNotWorse</th>\n",
              "      <th>DebtRatio</th>\n",
              "      <th>MonthlyIncome</th>\n",
              "      <th>NumberOfOpenCreditLinesAndLoans</th>\n",
              "      <th>NumberOfTimes90DaysLate</th>\n",
              "      <th>NumberRealEstateLoansOrLines</th>\n",
              "      <th>NumberOfTime60-89DaysPastDueNotWorse</th>\n",
              "      <th>NumberOfDependents</th>\n",
              "    </tr>\n",
              "  </thead>\n",
              "  <tbody>\n",
              "    <tr>\n",
              "      <th>0</th>\n",
              "      <td>1</td>\n",
              "      <td>1.0</td>\n",
              "      <td>0.766127</td>\n",
              "      <td>45.0</td>\n",
              "      <td>2.0</td>\n",
              "      <td>0.802982</td>\n",
              "      <td>9120.0</td>\n",
              "      <td>13.0</td>\n",
              "      <td>0.0</td>\n",
              "      <td>6.0</td>\n",
              "      <td>0.0</td>\n",
              "      <td>2.0</td>\n",
              "    </tr>\n",
              "    <tr>\n",
              "      <th>1</th>\n",
              "      <td>2</td>\n",
              "      <td>0.0</td>\n",
              "      <td>0.957151</td>\n",
              "      <td>40.0</td>\n",
              "      <td>0.0</td>\n",
              "      <td>0.121876</td>\n",
              "      <td>2600.0</td>\n",
              "      <td>4.0</td>\n",
              "      <td>0.0</td>\n",
              "      <td>0.0</td>\n",
              "      <td>0.0</td>\n",
              "      <td>1.0</td>\n",
              "    </tr>\n",
              "    <tr>\n",
              "      <th>2</th>\n",
              "      <td>3</td>\n",
              "      <td>0.0</td>\n",
              "      <td>0.658180</td>\n",
              "      <td>38.0</td>\n",
              "      <td>1.0</td>\n",
              "      <td>0.085113</td>\n",
              "      <td>3042.0</td>\n",
              "      <td>2.0</td>\n",
              "      <td>1.0</td>\n",
              "      <td>0.0</td>\n",
              "      <td>0.0</td>\n",
              "      <td>0.0</td>\n",
              "    </tr>\n",
              "    <tr>\n",
              "      <th>3</th>\n",
              "      <td>4</td>\n",
              "      <td>0.0</td>\n",
              "      <td>0.233810</td>\n",
              "      <td>30.0</td>\n",
              "      <td>0.0</td>\n",
              "      <td>0.036050</td>\n",
              "      <td>3300.0</td>\n",
              "      <td>5.0</td>\n",
              "      <td>0.0</td>\n",
              "      <td>0.0</td>\n",
              "      <td>0.0</td>\n",
              "      <td>0.0</td>\n",
              "    </tr>\n",
              "    <tr>\n",
              "      <th>4</th>\n",
              "      <td>5</td>\n",
              "      <td>0.0</td>\n",
              "      <td>0.907239</td>\n",
              "      <td>49.0</td>\n",
              "      <td>1.0</td>\n",
              "      <td>0.024926</td>\n",
              "      <td>63588.0</td>\n",
              "      <td>7.0</td>\n",
              "      <td>0.0</td>\n",
              "      <td>1.0</td>\n",
              "      <td>0.0</td>\n",
              "      <td>0.0</td>\n",
              "    </tr>\n",
              "    <tr>\n",
              "      <th>...</th>\n",
              "      <td>...</td>\n",
              "      <td>...</td>\n",
              "      <td>...</td>\n",
              "      <td>...</td>\n",
              "      <td>...</td>\n",
              "      <td>...</td>\n",
              "      <td>...</td>\n",
              "      <td>...</td>\n",
              "      <td>...</td>\n",
              "      <td>...</td>\n",
              "      <td>...</td>\n",
              "      <td>...</td>\n",
              "    </tr>\n",
              "    <tr>\n",
              "      <th>42036</th>\n",
              "      <td>42037</td>\n",
              "      <td>0.0</td>\n",
              "      <td>0.692735</td>\n",
              "      <td>29.0</td>\n",
              "      <td>0.0</td>\n",
              "      <td>0.190219</td>\n",
              "      <td>3700.0</td>\n",
              "      <td>5.0</td>\n",
              "      <td>0.0</td>\n",
              "      <td>0.0</td>\n",
              "      <td>0.0</td>\n",
              "      <td>0.0</td>\n",
              "    </tr>\n",
              "    <tr>\n",
              "      <th>42037</th>\n",
              "      <td>42038</td>\n",
              "      <td>0.0</td>\n",
              "      <td>0.237660</td>\n",
              "      <td>68.0</td>\n",
              "      <td>0.0</td>\n",
              "      <td>0.196701</td>\n",
              "      <td>4000.0</td>\n",
              "      <td>9.0</td>\n",
              "      <td>0.0</td>\n",
              "      <td>1.0</td>\n",
              "      <td>0.0</td>\n",
              "      <td>0.0</td>\n",
              "    </tr>\n",
              "    <tr>\n",
              "      <th>42038</th>\n",
              "      <td>42039</td>\n",
              "      <td>0.0</td>\n",
              "      <td>0.000876</td>\n",
              "      <td>54.0</td>\n",
              "      <td>0.0</td>\n",
              "      <td>0.000092</td>\n",
              "      <td>10933.0</td>\n",
              "      <td>4.0</td>\n",
              "      <td>0.0</td>\n",
              "      <td>0.0</td>\n",
              "      <td>0.0</td>\n",
              "      <td>1.0</td>\n",
              "    </tr>\n",
              "    <tr>\n",
              "      <th>42039</th>\n",
              "      <td>42040</td>\n",
              "      <td>0.0</td>\n",
              "      <td>0.000000</td>\n",
              "      <td>39.0</td>\n",
              "      <td>0.0</td>\n",
              "      <td>0.355974</td>\n",
              "      <td>11056.0</td>\n",
              "      <td>7.0</td>\n",
              "      <td>0.0</td>\n",
              "      <td>2.0</td>\n",
              "      <td>0.0</td>\n",
              "      <td>2.0</td>\n",
              "    </tr>\n",
              "    <tr>\n",
              "      <th>42040</th>\n",
              "      <td>42041</td>\n",
              "      <td>NaN</td>\n",
              "      <td>NaN</td>\n",
              "      <td>NaN</td>\n",
              "      <td>NaN</td>\n",
              "      <td>NaN</td>\n",
              "      <td>NaN</td>\n",
              "      <td>NaN</td>\n",
              "      <td>NaN</td>\n",
              "      <td>NaN</td>\n",
              "      <td>NaN</td>\n",
              "      <td>NaN</td>\n",
              "    </tr>\n",
              "  </tbody>\n",
              "</table>\n",
              "<p>42041 rows × 12 columns</p>\n",
              "</div>"
            ],
            "text/plain": [
              "       Unnamed: 0  ...  NumberOfDependents\n",
              "0               1  ...                 2.0\n",
              "1               2  ...                 1.0\n",
              "2               3  ...                 0.0\n",
              "3               4  ...                 0.0\n",
              "4               5  ...                 0.0\n",
              "...           ...  ...                 ...\n",
              "42036       42037  ...                 0.0\n",
              "42037       42038  ...                 0.0\n",
              "42038       42039  ...                 1.0\n",
              "42039       42040  ...                 2.0\n",
              "42040       42041  ...                 NaN\n",
              "\n",
              "[42041 rows x 12 columns]"
            ]
          },
          "metadata": {
            "tags": []
          },
          "execution_count": 3
        }
      ]
    },
    {
      "cell_type": "code",
      "metadata": {
        "id": "5o_GaGweojY2",
        "outputId": "a050873d-bc68-4a1a-cbe3-cdb9344b2ff1",
        "colab": {
          "base_uri": "https://localhost:8080/",
          "height": 241
        }
      },
      "source": [
        "# Naming unamed features\n",
        "train.rename(columns = {'Unnamed: 0':'ID'} , inplace = True)\n",
        "train.head()"
      ],
      "execution_count": null,
      "outputs": [
        {
          "output_type": "execute_result",
          "data": {
            "text/html": [
              "<div>\n",
              "<style scoped>\n",
              "    .dataframe tbody tr th:only-of-type {\n",
              "        vertical-align: middle;\n",
              "    }\n",
              "\n",
              "    .dataframe tbody tr th {\n",
              "        vertical-align: top;\n",
              "    }\n",
              "\n",
              "    .dataframe thead th {\n",
              "        text-align: right;\n",
              "    }\n",
              "</style>\n",
              "<table border=\"1\" class=\"dataframe\">\n",
              "  <thead>\n",
              "    <tr style=\"text-align: right;\">\n",
              "      <th></th>\n",
              "      <th>ID</th>\n",
              "      <th>SeriousDlqin2yrs</th>\n",
              "      <th>RevolvingUtilizationOfUnsecuredLines</th>\n",
              "      <th>age</th>\n",
              "      <th>NumberOfTime30-59DaysPastDueNotWorse</th>\n",
              "      <th>DebtRatio</th>\n",
              "      <th>MonthlyIncome</th>\n",
              "      <th>NumberOfOpenCreditLinesAndLoans</th>\n",
              "      <th>NumberOfTimes90DaysLate</th>\n",
              "      <th>NumberRealEstateLoansOrLines</th>\n",
              "      <th>NumberOfTime60-89DaysPastDueNotWorse</th>\n",
              "      <th>NumberOfDependents</th>\n",
              "    </tr>\n",
              "  </thead>\n",
              "  <tbody>\n",
              "    <tr>\n",
              "      <th>0</th>\n",
              "      <td>1</td>\n",
              "      <td>1.0</td>\n",
              "      <td>0.766127</td>\n",
              "      <td>45.0</td>\n",
              "      <td>2.0</td>\n",
              "      <td>0.802982</td>\n",
              "      <td>9120.0</td>\n",
              "      <td>13.0</td>\n",
              "      <td>0.0</td>\n",
              "      <td>6.0</td>\n",
              "      <td>0.0</td>\n",
              "      <td>2.0</td>\n",
              "    </tr>\n",
              "    <tr>\n",
              "      <th>1</th>\n",
              "      <td>2</td>\n",
              "      <td>0.0</td>\n",
              "      <td>0.957151</td>\n",
              "      <td>40.0</td>\n",
              "      <td>0.0</td>\n",
              "      <td>0.121876</td>\n",
              "      <td>2600.0</td>\n",
              "      <td>4.0</td>\n",
              "      <td>0.0</td>\n",
              "      <td>0.0</td>\n",
              "      <td>0.0</td>\n",
              "      <td>1.0</td>\n",
              "    </tr>\n",
              "    <tr>\n",
              "      <th>2</th>\n",
              "      <td>3</td>\n",
              "      <td>0.0</td>\n",
              "      <td>0.658180</td>\n",
              "      <td>38.0</td>\n",
              "      <td>1.0</td>\n",
              "      <td>0.085113</td>\n",
              "      <td>3042.0</td>\n",
              "      <td>2.0</td>\n",
              "      <td>1.0</td>\n",
              "      <td>0.0</td>\n",
              "      <td>0.0</td>\n",
              "      <td>0.0</td>\n",
              "    </tr>\n",
              "    <tr>\n",
              "      <th>3</th>\n",
              "      <td>4</td>\n",
              "      <td>0.0</td>\n",
              "      <td>0.233810</td>\n",
              "      <td>30.0</td>\n",
              "      <td>0.0</td>\n",
              "      <td>0.036050</td>\n",
              "      <td>3300.0</td>\n",
              "      <td>5.0</td>\n",
              "      <td>0.0</td>\n",
              "      <td>0.0</td>\n",
              "      <td>0.0</td>\n",
              "      <td>0.0</td>\n",
              "    </tr>\n",
              "    <tr>\n",
              "      <th>4</th>\n",
              "      <td>5</td>\n",
              "      <td>0.0</td>\n",
              "      <td>0.907239</td>\n",
              "      <td>49.0</td>\n",
              "      <td>1.0</td>\n",
              "      <td>0.024926</td>\n",
              "      <td>63588.0</td>\n",
              "      <td>7.0</td>\n",
              "      <td>0.0</td>\n",
              "      <td>1.0</td>\n",
              "      <td>0.0</td>\n",
              "      <td>0.0</td>\n",
              "    </tr>\n",
              "  </tbody>\n",
              "</table>\n",
              "</div>"
            ],
            "text/plain": [
              "   ID  ...  NumberOfDependents\n",
              "0   1  ...                 2.0\n",
              "1   2  ...                 1.0\n",
              "2   3  ...                 0.0\n",
              "3   4  ...                 0.0\n",
              "4   5  ...                 0.0\n",
              "\n",
              "[5 rows x 12 columns]"
            ]
          },
          "metadata": {
            "tags": []
          },
          "execution_count": 4
        }
      ]
    },
    {
      "cell_type": "code",
      "metadata": {
        "id": "OiB6FyvvojY7"
      },
      "source": [
        "# Converting every Feature in small letter\n",
        "\n",
        "train.columns = train.columns.str.lower()"
      ],
      "execution_count": null,
      "outputs": []
    },
    {
      "cell_type": "code",
      "metadata": {
        "id": "1qSIaoD5ojZA",
        "outputId": "efc9675f-0906-42b6-a3b8-2fdd650466b9",
        "colab": {
          "base_uri": "https://localhost:8080/",
          "height": 51
        }
      },
      "source": [
        "# Replacing - \n",
        "AllColumns = [ column for column in train.columns ]\n",
        "for c in AllColumns:\n",
        "    if '-' in c:\n",
        "        index = c.index('-')\n",
        "        splitted = c[0:index] + c[index+1:len(c)]\n",
        "        train.rename({c:splitted} , inplace = True)\n",
        "        print(splitted)"
      ],
      "execution_count": null,
      "outputs": [
        {
          "output_type": "stream",
          "text": [
            "numberoftime3059dayspastduenotworse\n",
            "numberoftime6089dayspastduenotworse\n"
          ],
          "name": "stdout"
        }
      ]
    },
    {
      "cell_type": "code",
      "metadata": {
        "id": "teWDMyspojZF",
        "outputId": "be54cdb4-1b90-40fe-e2b1-1f7be09dead5",
        "colab": {
          "base_uri": "https://localhost:8080/",
          "height": 334
        }
      },
      "source": [
        "train.drop('id' , inplace = True , axis = 1)\n",
        "train.describe()"
      ],
      "execution_count": null,
      "outputs": [
        {
          "output_type": "execute_result",
          "data": {
            "text/html": [
              "<div>\n",
              "<style scoped>\n",
              "    .dataframe tbody tr th:only-of-type {\n",
              "        vertical-align: middle;\n",
              "    }\n",
              "\n",
              "    .dataframe tbody tr th {\n",
              "        vertical-align: top;\n",
              "    }\n",
              "\n",
              "    .dataframe thead th {\n",
              "        text-align: right;\n",
              "    }\n",
              "</style>\n",
              "<table border=\"1\" class=\"dataframe\">\n",
              "  <thead>\n",
              "    <tr style=\"text-align: right;\">\n",
              "      <th></th>\n",
              "      <th>seriousdlqin2yrs</th>\n",
              "      <th>revolvingutilizationofunsecuredlines</th>\n",
              "      <th>age</th>\n",
              "      <th>numberoftime30-59dayspastduenotworse</th>\n",
              "      <th>debtratio</th>\n",
              "      <th>monthlyincome</th>\n",
              "      <th>numberofopencreditlinesandloans</th>\n",
              "      <th>numberoftimes90dayslate</th>\n",
              "      <th>numberrealestateloansorlines</th>\n",
              "      <th>numberoftime60-89dayspastduenotworse</th>\n",
              "      <th>numberofdependents</th>\n",
              "    </tr>\n",
              "  </thead>\n",
              "  <tbody>\n",
              "    <tr>\n",
              "      <th>count</th>\n",
              "      <td>42040.000000</td>\n",
              "      <td>42040.000000</td>\n",
              "      <td>42040.000000</td>\n",
              "      <td>42040.000000</td>\n",
              "      <td>42040.000000</td>\n",
              "      <td>33590.000000</td>\n",
              "      <td>42040.000000</td>\n",
              "      <td>42040.000000</td>\n",
              "      <td>42040.000000</td>\n",
              "      <td>42040.000000</td>\n",
              "      <td>40909.000000</td>\n",
              "    </tr>\n",
              "    <tr>\n",
              "      <th>mean</th>\n",
              "      <td>0.066365</td>\n",
              "      <td>5.487089</td>\n",
              "      <td>52.278235</td>\n",
              "      <td>0.424952</td>\n",
              "      <td>362.118183</td>\n",
              "      <td>6623.244507</td>\n",
              "      <td>8.410442</td>\n",
              "      <td>0.274405</td>\n",
              "      <td>1.017531</td>\n",
              "      <td>0.246931</td>\n",
              "      <td>0.757828</td>\n",
              "    </tr>\n",
              "    <tr>\n",
              "      <th>std</th>\n",
              "      <td>0.248923</td>\n",
              "      <td>237.502785</td>\n",
              "      <td>14.805452</td>\n",
              "      <td>4.262641</td>\n",
              "      <td>2187.453550</td>\n",
              "      <td>8265.510515</td>\n",
              "      <td>5.124754</td>\n",
              "      <td>4.239574</td>\n",
              "      <td>1.129647</td>\n",
              "      <td>4.226169</td>\n",
              "      <td>1.118633</td>\n",
              "    </tr>\n",
              "    <tr>\n",
              "      <th>min</th>\n",
              "      <td>0.000000</td>\n",
              "      <td>0.000000</td>\n",
              "      <td>21.000000</td>\n",
              "      <td>0.000000</td>\n",
              "      <td>0.000000</td>\n",
              "      <td>0.000000</td>\n",
              "      <td>0.000000</td>\n",
              "      <td>0.000000</td>\n",
              "      <td>0.000000</td>\n",
              "      <td>0.000000</td>\n",
              "      <td>0.000000</td>\n",
              "    </tr>\n",
              "    <tr>\n",
              "      <th>25%</th>\n",
              "      <td>0.000000</td>\n",
              "      <td>0.030024</td>\n",
              "      <td>41.000000</td>\n",
              "      <td>0.000000</td>\n",
              "      <td>0.174878</td>\n",
              "      <td>3400.000000</td>\n",
              "      <td>5.000000</td>\n",
              "      <td>0.000000</td>\n",
              "      <td>0.000000</td>\n",
              "      <td>0.000000</td>\n",
              "      <td>0.000000</td>\n",
              "    </tr>\n",
              "    <tr>\n",
              "      <th>50%</th>\n",
              "      <td>0.000000</td>\n",
              "      <td>0.157490</td>\n",
              "      <td>52.000000</td>\n",
              "      <td>0.000000</td>\n",
              "      <td>0.368889</td>\n",
              "      <td>5400.000000</td>\n",
              "      <td>8.000000</td>\n",
              "      <td>0.000000</td>\n",
              "      <td>1.000000</td>\n",
              "      <td>0.000000</td>\n",
              "      <td>0.000000</td>\n",
              "    </tr>\n",
              "    <tr>\n",
              "      <th>75%</th>\n",
              "      <td>0.000000</td>\n",
              "      <td>0.564695</td>\n",
              "      <td>63.000000</td>\n",
              "      <td>0.000000</td>\n",
              "      <td>0.880248</td>\n",
              "      <td>8266.000000</td>\n",
              "      <td>11.000000</td>\n",
              "      <td>0.000000</td>\n",
              "      <td>2.000000</td>\n",
              "      <td>0.000000</td>\n",
              "      <td>1.000000</td>\n",
              "    </tr>\n",
              "    <tr>\n",
              "      <th>max</th>\n",
              "      <td>1.000000</td>\n",
              "      <td>29110.000000</td>\n",
              "      <td>107.000000</td>\n",
              "      <td>98.000000</td>\n",
              "      <td>326442.000000</td>\n",
              "      <td>629000.000000</td>\n",
              "      <td>58.000000</td>\n",
              "      <td>98.000000</td>\n",
              "      <td>54.000000</td>\n",
              "      <td>98.000000</td>\n",
              "      <td>20.000000</td>\n",
              "    </tr>\n",
              "  </tbody>\n",
              "</table>\n",
              "</div>"
            ],
            "text/plain": [
              "       seriousdlqin2yrs  ...  numberofdependents\n",
              "count      42040.000000  ...        40909.000000\n",
              "mean           0.066365  ...            0.757828\n",
              "std            0.248923  ...            1.118633\n",
              "min            0.000000  ...            0.000000\n",
              "25%            0.000000  ...            0.000000\n",
              "50%            0.000000  ...            0.000000\n",
              "75%            0.000000  ...            1.000000\n",
              "max            1.000000  ...           20.000000\n",
              "\n",
              "[8 rows x 11 columns]"
            ]
          },
          "metadata": {
            "tags": []
          },
          "execution_count": 7
        }
      ]
    },
    {
      "cell_type": "code",
      "metadata": {
        "id": "5AAH1ajGojZK"
      },
      "source": [
        "# Checking the distribution of our target \n",
        "percentile = train['seriousdlqin2yrs'].value_counts()/len(train)*100"
      ],
      "execution_count": null,
      "outputs": []
    },
    {
      "cell_type": "code",
      "metadata": {
        "id": "Ps8MDgFJojZP",
        "outputId": "e82b2051-a785-4da5-d298-777ffba65775",
        "colab": {
          "base_uri": "https://localhost:8080/",
          "height": 288
        }
      },
      "source": [
        "train.seriousdlqin2yrs.value_counts().plot(kind = 'bar')"
      ],
      "execution_count": null,
      "outputs": [
        {
          "output_type": "execute_result",
          "data": {
            "text/plain": [
              "<matplotlib.axes._subplots.AxesSubplot at 0x7f6ffc0aaa20>"
            ]
          },
          "metadata": {
            "tags": []
          },
          "execution_count": 9
        },
        {
          "output_type": "display_data",
          "data": {
            "image/png": "[encoded data removed]",
            "text/plain": [
              "<Figure size 432x288 with 1 Axes>"
            ]
          },
          "metadata": {
            "tags": [],
            "needs_background": "light"
          }
        }
      ]
    },
    {
      "cell_type": "code",
      "metadata": {
        "id": "OMhyJGiNojZP",
        "outputId": "cc7ac06e-a6aa-4fb4-f9e5-c2dc2bedc039",
        "colab": {
          "base_uri": "https://localhost:8080/",
          "height": 355
        }
      },
      "source": [
        "# Graphical representation of the target label percentage.\n",
        "sns.set()\n",
        "sns.countplot(train.seriousdlqin2yrs).set_title('Data Distribution')\n",
        "ax = plt.gca()\n",
        "for p in ax.patches:\n",
        "    height = p.get_height()\n",
        "    ax.text(p.get_x() + p.get_width()/2.,\n",
        "            height + 2,\n",
        "            '{:.2f}%'.format(100*(height/len(train))),\n",
        "            fontsize=14, ha='center', va='bottom')\n",
        "sns.set(font_scale=1.5)\n",
        "ax.set_xlabel(\"Labels for seriousdlqin2yrs attribute\")\n",
        "ax.set_ylabel(\"Numbers of records\")\n",
        "plt.show()\n"
      ],
      "execution_count": null,
      "outputs": [
        {
          "output_type": "stream",
          "text": [
            "/usr/local/lib/python3.6/dist-packages/seaborn/_decorators.py:43: FutureWarning: Pass the following variable as a keyword arg: x. From version 0.12, the only valid positional argument will be `data`, and passing other arguments without an explicit keyword will result in an error or misinterpretation.\n",
            "  FutureWarning\n"
          ],
          "name": "stderr"
        },
        {
          "output_type": "display_data",
          "data": {
            "image/png": "[encoded data removed]",
            "text/plain": [
              "<Figure size 432x288 with 1 Axes>"
            ]
          },
          "metadata": {
            "tags": []
          }
        }
      ]
    },
    {
      "cell_type": "markdown",
      "metadata": {
        "id": "WGw0WilaojZU"
      },
      "source": [
        "### Missing values"
      ]
    },
    {
      "cell_type": "code",
      "metadata": {
        "id": "Jwpg6RF0ojZU",
        "outputId": "fe501035-87e2-4dfc-a806-1b03d83cadd6",
        "colab": {
          "base_uri": "https://localhost:8080/",
          "height": 221
        }
      },
      "source": [
        "train.isna().sum()"
      ],
      "execution_count": null,
      "outputs": [
        {
          "output_type": "execute_result",
          "data": {
            "text/plain": [
              "seriousdlqin2yrs                           1\n",
              "revolvingutilizationofunsecuredlines       1\n",
              "age                                        1\n",
              "numberoftime30-59dayspastduenotworse       1\n",
              "debtratio                                  1\n",
              "monthlyincome                           8451\n",
              "numberofopencreditlinesandloans            1\n",
              "numberoftimes90dayslate                    1\n",
              "numberrealestateloansorlines               1\n",
              "numberoftime60-89dayspastduenotworse       1\n",
              "numberofdependents                      1132\n",
              "dtype: int64"
            ]
          },
          "metadata": {
            "tags": []
          },
          "execution_count": 11
        }
      ]
    },
    {
      "cell_type": "code",
      "metadata": {
        "id": "VLNeSMkfojZZ",
        "outputId": "a0f11a83-9b8d-424f-b934-6fb8e65c230c",
        "colab": {
          "base_uri": "https://localhost:8080/",
          "height": 622
        }
      },
      "source": [
        "train.isna().sum().plot(kind ='bar')"
      ],
      "execution_count": null,
      "outputs": [
        {
          "output_type": "execute_result",
          "data": {
            "text/plain": [
              "<matplotlib.axes._subplots.AxesSubplot at 0x7f6ffbf80390>"
            ]
          },
          "metadata": {
            "tags": []
          },
          "execution_count": 12
        },
        {
          "output_type": "display_data",
          "data": {
            "image/png": "[encoded data removed]",
            "text/plain": [
              "<Figure size 432x288 with 1 Axes>"
            ]
          },
          "metadata": {
            "tags": []
          }
        }
      ]
    },
    {
      "cell_type": "code",
      "metadata": {
        "id": "amwZ_PhBojZe",
        "outputId": "2ad2b04c-af58-4537-80f5-1dcf49d77e6b",
        "colab": {
          "base_uri": "https://localhost:8080/",
          "height": 713
        }
      },
      "source": [
        "# Or\n",
        "sns.barplot(train.columns , train.isnull().sum()).set_title('Null Values')\n",
        "ax = plt.gca()\n",
        "for a in ax.patches:\n",
        "    height = a.get_height()\n",
        "    ax.text(a.get_x() + a.get_width()/2. , height+ 1 , int(height),fontsize = 12 , ha='center', va='bottom')\n",
        "plt.xticks(rotation = 90)\n"
      ],
      "execution_count": null,
      "outputs": [
        {
          "output_type": "stream",
          "text": [
            "/usr/local/lib/python3.6/dist-packages/seaborn/_decorators.py:43: FutureWarning: Pass the following variables as keyword args: x, y. From version 0.12, the only valid positional argument will be `data`, and passing other arguments without an explicit keyword will result in an error or misinterpretation.\n",
            "  FutureWarning\n"
          ],
          "name": "stderr"
        },
        {
          "output_type": "execute_result",
          "data": {
            "text/plain": [
              "(array([ 0,  1,  2,  3,  4,  5,  6,  7,  8,  9, 10]),\n",
              " <a list of 11 Text major ticklabel objects>)"
            ]
          },
          "metadata": {
            "tags": []
          },
          "execution_count": 13
        },
        {
          "output_type": "display_data",
          "data": {
            "image/png": "[encoded data removed]",
            "text/plain": [
              "<Figure size 432x288 with 1 Axes>"
            ]
          },
          "metadata": {
            "tags": []
          }
        }
      ]
    },
    {
      "cell_type": "code",
      "metadata": {
        "id": "MnSTCnumojZj"
      },
      "source": [
        "train.fillna((train.mean()) , inplace = True)"
      ],
      "execution_count": null,
      "outputs": []
    },
    {
      "cell_type": "code",
      "metadata": {
        "id": "HfP0np3HojZj",
        "outputId": "14ad7e5f-4d56-4c41-d964-626ca3884c87",
        "colab": {
          "base_uri": "https://localhost:8080/",
          "height": 221
        }
      },
      "source": [
        "train.isnull().sum()"
      ],
      "execution_count": null,
      "outputs": [
        {
          "output_type": "execute_result",
          "data": {
            "text/plain": [
              "seriousdlqin2yrs                        0\n",
              "revolvingutilizationofunsecuredlines    0\n",
              "age                                     0\n",
              "numberoftime30-59dayspastduenotworse    0\n",
              "debtratio                               0\n",
              "monthlyincome                           0\n",
              "numberofopencreditlinesandloans         0\n",
              "numberoftimes90dayslate                 0\n",
              "numberrealestateloansorlines            0\n",
              "numberoftime60-89dayspastduenotworse    0\n",
              "numberofdependents                      0\n",
              "dtype: int64"
            ]
          },
          "metadata": {
            "tags": []
          },
          "execution_count": 15
        }
      ]
    },
    {
      "cell_type": "markdown",
      "metadata": {
        "id": "BG2QP4fMojZo"
      },
      "source": [
        "### Correlation"
      ]
    },
    {
      "cell_type": "code",
      "metadata": {
        "id": "QBSkT8P4ojZo",
        "outputId": "d3b5f45e-c16d-4c9a-90fd-ad932af46062",
        "colab": {
          "base_uri": "https://localhost:8080/",
          "height": 461
        }
      },
      "source": [
        "train.corr()"
      ],
      "execution_count": null,
      "outputs": [
        {
          "output_type": "execute_result",
          "data": {
            "text/html": [
              "<div>\n",
              "<style scoped>\n",
              "    .dataframe tbody tr th:only-of-type {\n",
              "        vertical-align: middle;\n",
              "    }\n",
              "\n",
              "    .dataframe tbody tr th {\n",
              "        vertical-align: top;\n",
              "    }\n",
              "\n",
              "    .dataframe thead th {\n",
              "        text-align: right;\n",
              "    }\n",
              "</style>\n",
              "<table border=\"1\" class=\"dataframe\">\n",
              "  <thead>\n",
              "    <tr style=\"text-align: right;\">\n",
              "      <th></th>\n",
              "      <th>seriousdlqin2yrs</th>\n",
              "      <th>revolvingutilizationofunsecuredlines</th>\n",
              "      <th>age</th>\n",
              "      <th>numberoftime30-59dayspastduenotworse</th>\n",
              "      <th>debtratio</th>\n",
              "      <th>monthlyincome</th>\n",
              "      <th>numberofopencreditlinesandloans</th>\n",
              "      <th>numberoftimes90dayslate</th>\n",
              "      <th>numberrealestateloansorlines</th>\n",
              "      <th>numberoftime60-89dayspastduenotworse</th>\n",
              "      <th>numberofdependents</th>\n",
              "    </tr>\n",
              "  </thead>\n",
              "  <tbody>\n",
              "    <tr>\n",
              "      <th>seriousdlqin2yrs</th>\n",
              "      <td>1.000000</td>\n",
              "      <td>-0.000610</td>\n",
              "      <td>-0.114524</td>\n",
              "      <td>0.113177</td>\n",
              "      <td>-0.008904</td>\n",
              "      <td>-0.030001</td>\n",
              "      <td>-0.031852</td>\n",
              "      <td>0.105791</td>\n",
              "      <td>-0.013189</td>\n",
              "      <td>0.091512</td>\n",
              "      <td>0.039259</td>\n",
              "    </tr>\n",
              "    <tr>\n",
              "      <th>revolvingutilizationofunsecuredlines</th>\n",
              "      <td>-0.000610</td>\n",
              "      <td>1.000000</td>\n",
              "      <td>-0.004997</td>\n",
              "      <td>-0.001254</td>\n",
              "      <td>0.001453</td>\n",
              "      <td>0.004385</td>\n",
              "      <td>-0.008731</td>\n",
              "      <td>-0.000934</td>\n",
              "      <td>0.004614</td>\n",
              "      <td>-0.000998</td>\n",
              "      <td>-0.004547</td>\n",
              "    </tr>\n",
              "    <tr>\n",
              "      <th>age</th>\n",
              "      <td>-0.114524</td>\n",
              "      <td>-0.004997</td>\n",
              "      <td>1.000000</td>\n",
              "      <td>-0.067325</td>\n",
              "      <td>0.026439</td>\n",
              "      <td>0.061255</td>\n",
              "      <td>0.157237</td>\n",
              "      <td>-0.065969</td>\n",
              "      <td>0.037090</td>\n",
              "      <td>-0.062337</td>\n",
              "      <td>-0.203468</td>\n",
              "    </tr>\n",
              "    <tr>\n",
              "      <th>numberoftime30-59dayspastduenotworse</th>\n",
              "      <td>0.113177</td>\n",
              "      <td>-0.001254</td>\n",
              "      <td>-0.067325</td>\n",
              "      <td>1.000000</td>\n",
              "      <td>-0.007128</td>\n",
              "      <td>-0.015006</td>\n",
              "      <td>-0.055987</td>\n",
              "      <td>0.984560</td>\n",
              "      <td>-0.031577</td>\n",
              "      <td>0.987572</td>\n",
              "      <td>-0.008035</td>\n",
              "    </tr>\n",
              "    <tr>\n",
              "      <th>debtratio</th>\n",
              "      <td>-0.008904</td>\n",
              "      <td>0.001453</td>\n",
              "      <td>0.026439</td>\n",
              "      <td>-0.007128</td>\n",
              "      <td>1.000000</td>\n",
              "      <td>-0.009424</td>\n",
              "      <td>0.042581</td>\n",
              "      <td>-0.008050</td>\n",
              "      <td>0.100188</td>\n",
              "      <td>-0.007126</td>\n",
              "      <td>-0.037621</td>\n",
              "    </tr>\n",
              "    <tr>\n",
              "      <th>monthlyincome</th>\n",
              "      <td>-0.030001</td>\n",
              "      <td>0.004385</td>\n",
              "      <td>0.061255</td>\n",
              "      <td>-0.015006</td>\n",
              "      <td>-0.009424</td>\n",
              "      <td>1.000000</td>\n",
              "      <td>0.137950</td>\n",
              "      <td>-0.018028</td>\n",
              "      <td>0.178130</td>\n",
              "      <td>-0.016542</td>\n",
              "      <td>0.089601</td>\n",
              "    </tr>\n",
              "    <tr>\n",
              "      <th>numberofopencreditlinesandloans</th>\n",
              "      <td>-0.031852</td>\n",
              "      <td>-0.008731</td>\n",
              "      <td>0.157237</td>\n",
              "      <td>-0.055987</td>\n",
              "      <td>0.042581</td>\n",
              "      <td>0.137950</td>\n",
              "      <td>1.000000</td>\n",
              "      <td>-0.080787</td>\n",
              "      <td>0.434808</td>\n",
              "      <td>-0.071948</td>\n",
              "      <td>0.063348</td>\n",
              "    </tr>\n",
              "    <tr>\n",
              "      <th>numberoftimes90dayslate</th>\n",
              "      <td>0.105791</td>\n",
              "      <td>-0.000934</td>\n",
              "      <td>-0.065969</td>\n",
              "      <td>0.984560</td>\n",
              "      <td>-0.008050</td>\n",
              "      <td>-0.018028</td>\n",
              "      <td>-0.080787</td>\n",
              "      <td>1.000000</td>\n",
              "      <td>-0.045900</td>\n",
              "      <td>0.993531</td>\n",
              "      <td>-0.014827</td>\n",
              "    </tr>\n",
              "    <tr>\n",
              "      <th>numberrealestateloansorlines</th>\n",
              "      <td>-0.013189</td>\n",
              "      <td>0.004614</td>\n",
              "      <td>0.037090</td>\n",
              "      <td>-0.031577</td>\n",
              "      <td>0.100188</td>\n",
              "      <td>0.178130</td>\n",
              "      <td>0.434808</td>\n",
              "      <td>-0.045900</td>\n",
              "      <td>1.000000</td>\n",
              "      <td>-0.039861</td>\n",
              "      <td>0.120610</td>\n",
              "    </tr>\n",
              "    <tr>\n",
              "      <th>numberoftime60-89dayspastduenotworse</th>\n",
              "      <td>0.091512</td>\n",
              "      <td>-0.000998</td>\n",
              "      <td>-0.062337</td>\n",
              "      <td>0.987572</td>\n",
              "      <td>-0.007126</td>\n",
              "      <td>-0.016542</td>\n",
              "      <td>-0.071948</td>\n",
              "      <td>0.993531</td>\n",
              "      <td>-0.039861</td>\n",
              "      <td>1.000000</td>\n",
              "      <td>-0.015737</td>\n",
              "    </tr>\n",
              "    <tr>\n",
              "      <th>numberofdependents</th>\n",
              "      <td>0.039259</td>\n",
              "      <td>-0.004547</td>\n",
              "      <td>-0.203468</td>\n",
              "      <td>-0.008035</td>\n",
              "      <td>-0.037621</td>\n",
              "      <td>0.089601</td>\n",
              "      <td>0.063348</td>\n",
              "      <td>-0.014827</td>\n",
              "      <td>0.120610</td>\n",
              "      <td>-0.015737</td>\n",
              "      <td>1.000000</td>\n",
              "    </tr>\n",
              "  </tbody>\n",
              "</table>\n",
              "</div>"
            ],
            "text/plain": [
              "                                      seriousdlqin2yrs  ...  numberofdependents\n",
              "seriousdlqin2yrs                              1.000000  ...            0.039259\n",
              "revolvingutilizationofunsecuredlines         -0.000610  ...           -0.004547\n",
              "age                                          -0.114524  ...           -0.203468\n",
              "numberoftime30-59dayspastduenotworse          0.113177  ...           -0.008035\n",
              "debtratio                                    -0.008904  ...           -0.037621\n",
              "monthlyincome                                -0.030001  ...            0.089601\n",
              "numberofopencreditlinesandloans              -0.031852  ...            0.063348\n",
              "numberoftimes90dayslate                       0.105791  ...           -0.014827\n",
              "numberrealestateloansorlines                 -0.013189  ...            0.120610\n",
              "numberoftime60-89dayspastduenotworse          0.091512  ...           -0.015737\n",
              "numberofdependents                            0.039259  ...            1.000000\n",
              "\n",
              "[11 rows x 11 columns]"
            ]
          },
          "metadata": {
            "tags": []
          },
          "execution_count": 16
        }
      ]
    },
    {
      "cell_type": "code",
      "metadata": {
        "id": "nev55F5LojZt",
        "outputId": "79e3e9fa-62b4-4141-9621-e8036224ac20",
        "colab": {
          "base_uri": "https://localhost:8080/",
          "height": 494
        }
      },
      "source": [
        "sns.set()\n",
        "sns.heatmap(train[train.columns[1:]].corr(),annot=True,fmt=\".1f\",\n",
        "            cmap=(sns.cubehelix_palette(8, start=.5, rot=-.75)) )\n",
        "plt.show()"
      ],
      "execution_count": null,
      "outputs": [
        {
          "output_type": "display_data",
          "data": {
            "image/png": "[encoded data removed]",
            "text/plain": [
              "<Figure size 432x288 with 2 Axes>"
            ]
          },
          "metadata": {
            "tags": []
          }
        }
      ]
    },
    {
      "cell_type": "markdown",
      "metadata": {
        "id": "cxK0HVdrojZy"
      },
      "source": [
        "### Outliers Detection"
      ]
    },
    {
      "cell_type": "code",
      "metadata": {
        "id": "-Zp6m_hzojZy"
      },
      "source": [
        "# Percentile Outlier Detection\n",
        "#percentile_based_outlier(data=training_data.revolvingutilizationofunsecuredlines)\n",
        "\n",
        "# Another percentile based outlier detection method which is based on inter quertile(IQR) range\n",
        "# import numpy as np\n",
        "# def outliers_iqr(ys):\n",
        "#     quartile_1, quartile_3 = np.percentile(ys, [25, 75])\n",
        "#     iqr = quartile_3 - quartile_1\n",
        "#     lower_bound = quartile_1 - (iqr * 1.5)\n",
        "#     upper_bound = quartile_3 + (iqr * 1.5)\n",
        "#     return np.where((ys > upper_bound) | (ys < lower_bound))\n",
        "def percentile_based_outlier( data , threshold = 95):\n",
        "    threshold1 = (100 - 95)/2.0\n",
        "    minval , maxval = np.percentile(data , [threshold1 , threshold] )\n",
        "    return ((data < minval) | (data > maxval))\n",
        "    "
      ],
      "execution_count": null,
      "outputs": []
    },
    {
      "cell_type": "code",
      "metadata": {
        "id": "yVWCCwMdojZ3"
      },
      "source": [
        "def mad_based_outlier(points, threshold=3.5):\n",
        "    median_y = np.median(points)\n",
        "    median_absolute_deviation_y = np.median([np.abs(y - median_y) for y in points])\n",
        "    modified_z_scores = [0.6745 * (y - median_y) / median_absolute_deviation_y\n",
        "                         for y in points]\n",
        "\n",
        "    return np.abs(modified_z_scores) > threshold\n",
        "#mad_based_outlier(points=training_data.age)"
      ],
      "execution_count": null,
      "outputs": []
    },
    {
      "cell_type": "code",
      "metadata": {
        "id": "HW6JL6tSojZ3"
      },
      "source": [
        "# Standard Deviation method\n",
        "def std_div( data , threshold = 3 ):\n",
        "    isOutlier = []\n",
        "    sd = data.std()\n",
        "    for dataa in data:\n",
        "        if dataa/sd > 3 :\n",
        "            isOutlier.append(True)\n",
        "        else:\n",
        "            isOutlier.append(False)\n",
        "    return isOutlier"
      ],
      "execution_count": null,
      "outputs": []
    },
    {
      "cell_type": "code",
      "metadata": {
        "id": "hGIuR1K5ojZ8"
      },
      "source": [
        "# Now if max any 2 of these technique result in True(Outlier) result will be True\n",
        "def outlierVote( data ):\n",
        "    x = percentile_based_outlier( data )\n",
        "    y = mad_based_outlier( data )\n",
        "    z = std_div(data)\n",
        "    temp = zip(data.index, x, y, z)\n",
        "    final = []\n",
        "    for i in range(temp.shape[0]):\n",
        "        if temp[i].count(False) >= 2:\n",
        "            final.append(False)\n",
        "        else:\n",
        "            final.append(True)\n",
        "    return final"
      ],
      "execution_count": null,
      "outputs": []
    },
    {
      "cell_type": "code",
      "metadata": {
        "id": "rnwx6HkLojaB",
        "outputId": "5e989201-e7ee-4f25-d29f-177b9d805913",
        "colab": {
          "base_uri": "https://localhost:8080/",
          "height": 119
        }
      },
      "source": [
        "train.columns"
      ],
      "execution_count": null,
      "outputs": [
        {
          "output_type": "execute_result",
          "data": {
            "text/plain": [
              "Index(['seriousdlqin2yrs', 'revolvingutilizationofunsecuredlines', 'age',\n",
              "       'numberoftime30-59dayspastduenotworse', 'debtratio', 'monthlyincome',\n",
              "       'numberofopencreditlinesandloans', 'numberoftimes90dayslate',\n",
              "       'numberrealestateloansorlines', 'numberoftime60-89dayspastduenotworse',\n",
              "       'numberofdependents'],\n",
              "      dtype='object')"
            ]
          },
          "metadata": {
            "tags": []
          },
          "execution_count": 22
        }
      ]
    },
    {
      "cell_type": "markdown",
      "metadata": {
        "id": "GGKjvrK2ojaB"
      },
      "source": [
        "## Fixing Outliers"
      ]
    },
    {
      "cell_type": "code",
      "metadata": {
        "id": "zQ29vcFjojaG",
        "outputId": "60c548f2-6cc3-437a-c6e2-f850de9f3314",
        "colab": {
          "base_uri": "https://localhost:8080/",
          "height": 1000
        }
      },
      "source": [
        "import collections\n",
        "collections.Counter(train.revolvingutilizationofunsecuredlines)"
      ],
      "execution_count": null,
      "outputs": [
        {
          "output_type": "execute_result",
          "data": {
            "text/plain": [
              "Counter({0.7661266090000001: 1,\n",
              "         0.9571510190000001: 1,\n",
              "         0.65818014: 1,\n",
              "         0.23380977600000002: 1,\n",
              "         0.9072394: 1,\n",
              "         0.21317868199999998: 1,\n",
              "         0.305682465: 1,\n",
              "         0.754463648: 1,\n",
              "         0.116950644: 1,\n",
              "         0.189169052: 1,\n",
              "         0.644225962: 1,\n",
              "         0.01879812: 2,\n",
              "         0.010351856999999999: 1,\n",
              "         0.964672555: 1,\n",
              "         0.019656581: 1,\n",
              "         0.548458062: 1,\n",
              "         0.061086117999999995: 1,\n",
              "         0.166284079: 1,\n",
              "         0.22181277100000002: 1,\n",
              "         0.602794411: 1,\n",
              "         0.20092338199999998: 1,\n",
              "         0.025655677: 1,\n",
              "         0.9999998999999999: 3028,\n",
              "         0.075426584: 1,\n",
              "         0.04656027: 1,\n",
              "         0.392248482: 1,\n",
              "         0.052436094: 1,\n",
              "         0.034421473: 1,\n",
              "         0.45251582799999995: 1,\n",
              "         0.39299458600000003: 1,\n",
              "         0.704073982: 1,\n",
              "         0.083418009: 1,\n",
              "         0.18686855600000002: 1,\n",
              "         0.6933296809999999: 1,\n",
              "         0.0: 3054,\n",
              "         0.881836362: 1,\n",
              "         0.363636364: 1,\n",
              "         0.304490668: 1,\n",
              "         0.71998531: 1,\n",
              "         0.07289757: 1,\n",
              "         0.46905684200000003: 1,\n",
              "         0.718705378: 1,\n",
              "         0.368875933: 1,\n",
              "         0.000602723: 1,\n",
              "         0.061440132: 1,\n",
              "         0.140110634: 1,\n",
              "         0.834048027: 1,\n",
              "         7.96e-05: 1,\n",
              "         0.818977517: 1,\n",
              "         0.728150491: 1,\n",
              "         0.028562367: 1,\n",
              "         0.9920159679999999: 4,\n",
              "         0.070853769: 1,\n",
              "         0.454971915: 1,\n",
              "         0.401199782: 1,\n",
              "         0.5411088039999999: 1,\n",
              "         0.655569945: 1,\n",
              "         0.651603452: 1,\n",
              "         0.027399502000000003: 1,\n",
              "         0.10115582099999999: 1,\n",
              "         0.009788861999999999: 1,\n",
              "         0.337520702: 1,\n",
              "         0.750873672: 1,\n",
              "         0.006799093000000001: 1,\n",
              "         0.0042640790000000005: 1,\n",
              "         0.26948375: 1,\n",
              "         0.265898391: 1,\n",
              "         0.142013011: 1,\n",
              "         0.827708197: 1,\n",
              "         0.059668871: 1,\n",
              "         0.13306279: 1,\n",
              "         0.234218112: 1,\n",
              "         0.12229593300000001: 1,\n",
              "         0.46037631700000003: 1,\n",
              "         0.335558577: 1,\n",
              "         0.270522569: 1,\n",
              "         0.183316667: 1,\n",
              "         0.074861676: 1,\n",
              "         0.017258976999999998: 1,\n",
              "         0.054497069: 1,\n",
              "         0.029164236: 1,\n",
              "         0.360509632: 1,\n",
              "         0.0037496879999999997: 1,\n",
              "         0.734477501: 1,\n",
              "         0.08056416799999999: 1,\n",
              "         0.039387786: 1,\n",
              "         0.023767432999999998: 1,\n",
              "         0.784835658: 1,\n",
              "         0.888822236: 1,\n",
              "         0.791173628: 1,\n",
              "         0.24535301: 1,\n",
              "         0.542242704: 1,\n",
              "         0.010531378999999999: 1,\n",
              "         0.363199686: 1,\n",
              "         0.032617977: 1,\n",
              "         0.013024673999999998: 1,\n",
              "         0.019387778999999997: 1,\n",
              "         0.634485057: 1,\n",
              "         0.888008615: 1,\n",
              "         0.0031088490000000003: 1,\n",
              "         0.11483094099999999: 1,\n",
              "         0.018886792: 1,\n",
              "         0.6354151570000001: 1,\n",
              "         0.041257909: 1,\n",
              "         0.096737158: 1,\n",
              "         0.31844615: 1,\n",
              "         0.18698753399999998: 1,\n",
              "         0.006541851: 1,\n",
              "         0.180972181: 1,\n",
              "         0.00750765: 1,\n",
              "         0.06790706: 1,\n",
              "         0.033461782: 1,\n",
              "         0.0075205919999999996: 1,\n",
              "         0.015271802: 1,\n",
              "         0.51712072: 1,\n",
              "         0.31797579600000003: 1,\n",
              "         0.29759464199999996: 1,\n",
              "         0.444837661: 1,\n",
              "         0.277956679: 1,\n",
              "         0.003722015: 1,\n",
              "         0.151912549: 1,\n",
              "         0.17572759300000002: 1,\n",
              "         0.011498563: 1,\n",
              "         0.163037489: 1,\n",
              "         0.047311582000000005: 1,\n",
              "         0.083880003: 1,\n",
              "         0.08947834800000001: 1,\n",
              "         0.773519223: 1,\n",
              "         0.093962275: 1,\n",
              "         0.21955042: 1,\n",
              "         0.147996253: 1,\n",
              "         0.5765185589999999: 1,\n",
              "         0.24387202100000002: 1,\n",
              "         0.36248381799999996: 1,\n",
              "         0.116676791: 1,\n",
              "         0.496911825: 1,\n",
              "         0.130902106: 1,\n",
              "         0.54699881: 1,\n",
              "         0.072277109: 1,\n",
              "         0.175932019: 1,\n",
              "         0.050789842: 1,\n",
              "         0.21286031: 1,\n",
              "         0.012682366: 1,\n",
              "         0.121557062: 1,\n",
              "         0.040795358: 1,\n",
              "         0.147712223: 1,\n",
              "         0.07077191099999999: 1,\n",
              "         1.046279103: 1,\n",
              "         0.323719804: 1,\n",
              "         0.36459777: 1,\n",
              "         0.637736406: 1,\n",
              "         0.081379827: 1,\n",
              "         0.020966389: 1,\n",
              "         0.170103002: 1,\n",
              "         0.7718456309999999: 1,\n",
              "         0.05538241: 1,\n",
              "         0.16653274: 1,\n",
              "         0.008632035: 1,\n",
              "         0.13527952: 1,\n",
              "         0.16757138900000002: 1,\n",
              "         0.068335151: 1,\n",
              "         0.946963874: 1,\n",
              "         0.405183973: 1,\n",
              "         0.055549312999999996: 1,\n",
              "         0.676195456: 1,\n",
              "         0.18498678699999999: 1,\n",
              "         0.08533829300000001: 1,\n",
              "         0.7864854059999999: 1,\n",
              "         0.0112096: 1,\n",
              "         0.03833451: 1,\n",
              "         0.714980139: 1,\n",
              "         0.043032042: 1,\n",
              "         1.095083357: 1,\n",
              "         0.101430135: 1,\n",
              "         0.025892468999999998: 1,\n",
              "         0.7621585609999999: 1,\n",
              "         0.231692268: 1,\n",
              "         0.114869499: 1,\n",
              "         0.035489848: 1,\n",
              "         0.045423864: 1,\n",
              "         0.311954668: 1,\n",
              "         0.07873891599999999: 1,\n",
              "         0.137609462: 1,\n",
              "         0.030173038: 1,\n",
              "         0.021978375: 1,\n",
              "         0.443696851: 1,\n",
              "         0.007506793: 1,\n",
              "         0.046640327999999995: 1,\n",
              "         0.29236594899999996: 1,\n",
              "         0.20808276: 1,\n",
              "         0.013500824: 1,\n",
              "         0.655316473: 1,\n",
              "         0.028113957000000002: 1,\n",
              "         0.22269620699999998: 1,\n",
              "         0.593985244: 1,\n",
              "         0.017508178: 1,\n",
              "         0.611865678: 1,\n",
              "         0.333060631: 1,\n",
              "         0.009025178: 1,\n",
              "         0.260271523: 1,\n",
              "         0.455950788: 1,\n",
              "         0.080288098: 1,\n",
              "         1.9534883719999998: 1,\n",
              "         0.181557324: 1,\n",
              "         0.147123525: 2,\n",
              "         0.025601772000000002: 1,\n",
              "         0.196372799: 1,\n",
              "         0.08394524199999999: 1,\n",
              "         0.034833091000000004: 1,\n",
              "         0.787522133: 1,\n",
              "         0.125429152: 1,\n",
              "         0.06037487: 1,\n",
              "         0.295928252: 1,\n",
              "         0.973339258: 1,\n",
              "         0.002856735: 1,\n",
              "         0.8775648970000001: 1,\n",
              "         0.053431552: 1,\n",
              "         0.732660667: 1,\n",
              "         0.08422045800000001: 1,\n",
              "         0.114561798: 1,\n",
              "         0.012151003: 1,\n",
              "         0.08131073700000001: 1,\n",
              "         0.09811305: 1,\n",
              "         1.048210842: 1,\n",
              "         0.011883886000000001: 1,\n",
              "         0.75264947: 1,\n",
              "         0.112321289: 1,\n",
              "         0.6343270560000001: 1,\n",
              "         0.15576324: 1,\n",
              "         0.09061488699999999: 1,\n",
              "         0.034645112: 1,\n",
              "         0.027446382999999998: 1,\n",
              "         0.41239862200000005: 1,\n",
              "         0.024670782000000002: 1,\n",
              "         0.046710960999999995: 1,\n",
              "         0.976531824: 1,\n",
              "         0.007982621: 1,\n",
              "         0.267541336: 1,\n",
              "         0.019779326: 1,\n",
              "         0.010402205: 1,\n",
              "         0.029816467000000003: 1,\n",
              "         0.181713732: 1,\n",
              "         0.051368557: 1,\n",
              "         0.29264536: 1,\n",
              "         0.22082371899999997: 1,\n",
              "         0.008099838: 1,\n",
              "         0.006099797: 1,\n",
              "         0.909538698: 1,\n",
              "         0.941072508: 1,\n",
              "         0.991667222: 1,\n",
              "         0.6914884179999999: 1,\n",
              "         0.11285525800000001: 1,\n",
              "         0.260971034: 1,\n",
              "         0.048244493: 1,\n",
              "         0.074256375: 1,\n",
              "         0.14487840800000001: 1,\n",
              "         0.19100193199999999: 1,\n",
              "         0.21938287899999998: 1,\n",
              "         0.679813777: 1,\n",
              "         2340.0: 1,\n",
              "         0.371875401: 1,\n",
              "         0.025856407999999997: 1,\n",
              "         0.547887778: 1,\n",
              "         0.271668778: 1,\n",
              "         0.085152475: 1,\n",
              "         0.897203427: 1,\n",
              "         0.25889775: 1,\n",
              "         0.035940506000000004: 1,\n",
              "         0.465238835: 1,\n",
              "         0.8654230509999999: 1,\n",
              "         0.6964116709999999: 1,\n",
              "         0.5444976579999999: 1,\n",
              "         0.081238383: 1,\n",
              "         0.9487628090000001: 1,\n",
              "         0.016598893: 1,\n",
              "         0.063329564: 1,\n",
              "         0.093638481: 1,\n",
              "         0.730271957: 1,\n",
              "         0.42637114200000004: 1,\n",
              "         0.948978489: 1,\n",
              "         1.00264667: 1,\n",
              "         0.0164781: 1,\n",
              "         0.042606843: 1,\n",
              "         0.022890604: 1,\n",
              "         0.283821988: 1,\n",
              "         0.319779462: 1,\n",
              "         0.155240525: 1,\n",
              "         0.013115183: 1,\n",
              "         0.067259209: 1,\n",
              "         0.284236153: 1,\n",
              "         0.727560021: 1,\n",
              "         0.6877790970000001: 1,\n",
              "         0.033708851: 1,\n",
              "         0.03719769: 1,\n",
              "         0.053589282: 1,\n",
              "         0.100773109: 1,\n",
              "         0.399946674: 1,\n",
              "         0.052653171: 1,\n",
              "         0.072318616: 1,\n",
              "         0.203959597: 1,\n",
              "         0.880370887: 1,\n",
              "         0.429246267: 1,\n",
              "         0.049529205: 1,\n",
              "         0.36090757100000004: 1,\n",
              "         0.335737457: 1,\n",
              "         0.635720859: 1,\n",
              "         0.507972665: 1,\n",
              "         0.24584166600000001: 1,\n",
              "         0.953343701: 1,\n",
              "         0.11885383699999999: 1,\n",
              "         0.630073985: 1,\n",
              "         0.028423247000000002: 1,\n",
              "         0.143427862: 1,\n",
              "         0.186682782: 1,\n",
              "         0.496388581: 1,\n",
              "         0.457526639: 1,\n",
              "         0.7282181190000001: 1,\n",
              "         0.947264856: 1,\n",
              "         0.013916922: 1,\n",
              "         0.066347297: 1,\n",
              "         0.502958087: 1,\n",
              "         1.047495906: 1,\n",
              "         0.012586354: 1,\n",
              "         0.543445655: 1,\n",
              "         0.026580302000000004: 1,\n",
              "         0.082317351: 1,\n",
              "         0.292541492: 1,\n",
              "         0.024240472000000002: 1,\n",
              "         0.047650102: 1,\n",
              "         0.7391464879999999: 1,\n",
              "         0.186890655: 1,\n",
              "         0.007501936999999999: 1,\n",
              "         0.522314625: 1,\n",
              "         0.571604587: 1,\n",
              "         0.903231566: 1,\n",
              "         0.017043518: 1,\n",
              "         0.060733395999999995: 1,\n",
              "         0.0005826480000000001: 1,\n",
              "         0.0038946859999999996: 1,\n",
              "         0.250008365: 1,\n",
              "         0.466334165: 1,\n",
              "         0.114588541: 1,\n",
              "         0.26790561399999996: 1,\n",
              "         0.029694361000000002: 1,\n",
              "         0.305246317: 1,\n",
              "         0.000685675: 1,\n",
              "         0.702493864: 1,\n",
              "         0.7424360409999999: 1,\n",
              "         0.8024171790000001: 1,\n",
              "         0.134191514: 1,\n",
              "         0.002556199: 1,\n",
              "         0.088845558: 1,\n",
              "         0.203947961: 1,\n",
              "         0.006666096999999999: 1,\n",
              "         0.014049648999999999: 1,\n",
              "         0.368866624: 1,\n",
              "         0.054553316: 1,\n",
              "         0.17948776600000002: 1,\n",
              "         0.026885902000000003: 1,\n",
              "         0.265705207: 1,\n",
              "         0.011847989: 1,\n",
              "         0.07083751: 1,\n",
              "         0.030996074: 1,\n",
              "         0.144914011: 1,\n",
              "         0.353017659: 1,\n",
              "         0.020074662: 1,\n",
              "         0.032769199: 1,\n",
              "         0.733885463: 1,\n",
              "         0.063514422: 1,\n",
              "         0.03157211: 1,\n",
              "         0.991502124: 1,\n",
              "         0.39770298200000004: 1,\n",
              "         0.971352432: 2,\n",
              "         0.003851709: 1,\n",
              "         0.010887967: 1,\n",
              "         0.686083014: 1,\n",
              "         0.212464485: 1,\n",
              "         0.006956358: 1,\n",
              "         0.073251754: 1,\n",
              "         0.431904058: 1,\n",
              "         0.006999563: 1,\n",
              "         0.014310431: 1,\n",
              "         0.026944485: 1,\n",
              "         0.297094601: 1,\n",
              "         0.31606476699999997: 1,\n",
              "         0.922670104: 1,\n",
              "         0.051077957: 1,\n",
              "         0.319190816: 1,\n",
              "         0.008737352: 1,\n",
              "         0.24367426600000003: 1,\n",
              "         0.028910707: 1,\n",
              "         0.03423863: 1,\n",
              "         0.50329934: 1,\n",
              "         0.799981673: 1,\n",
              "         0.069987933: 1,\n",
              "         0.067901335: 1,\n",
              "         0.7406351609999999: 1,\n",
              "         0.023382944: 1,\n",
              "         0.003625197: 1,\n",
              "         0.09228761699999999: 1,\n",
              "         0.057867667000000005: 1,\n",
              "         0.07807727: 1,\n",
              "         0.20194364199999998: 1,\n",
              "         0.077958915: 1,\n",
              "         0.20567648600000002: 1,\n",
              "         0.57985084: 1,\n",
              "         0.073393457: 1,\n",
              "         0.07917821900000001: 1,\n",
              "         0.073123172: 1,\n",
              "         0.745173448: 1,\n",
              "         0.10088331: 1,\n",
              "         0.34766523299999996: 1,\n",
              "         0.102031508: 1,\n",
              "         0.354125994: 1,\n",
              "         0.029643294: 1,\n",
              "         0.540204354: 1,\n",
              "         0.640927271: 1,\n",
              "         0.058271403: 1,\n",
              "         0.719305764: 1,\n",
              "         0.045017363: 1,\n",
              "         0.35592819: 1,\n",
              "         0.57762185: 1,\n",
              "         0.015054291000000001: 1,\n",
              "         0.320593837: 1,\n",
              "         0.047587303: 1,\n",
              "         0.173428408: 1,\n",
              "         0.401789055: 1,\n",
              "         0.301152442: 1,\n",
              "         0.067512585: 1,\n",
              "         0.993335555: 2,\n",
              "         0.138793584: 1,\n",
              "         0.19358480100000003: 1,\n",
              "         0.001124859: 2,\n",
              "         0.485558448: 1,\n",
              "         0.979521555: 1,\n",
              "         0.090641506: 1,\n",
              "         0.38480769: 1,\n",
              "         0.183676155: 1,\n",
              "         0.018124667: 1,\n",
              "         0.290320472: 1,\n",
              "         0.052161270999999995: 1,\n",
              "         0.412657703: 1,\n",
              "         0.091201293: 1,\n",
              "         0.500234532: 1,\n",
              "         0.913140498: 1,\n",
              "         0.056390008: 1,\n",
              "         0.611388611: 1,\n",
              "         0.065630892: 1,\n",
              "         0.499666889: 2,\n",
              "         0.28947053899999997: 1,\n",
              "         0.8141545109999999: 1,\n",
              "         0.016406971: 1,\n",
              "         0.078497383: 1,\n",
              "         0.029692431000000002: 1,\n",
              "         0.01255887: 1,\n",
              "         0.062093267: 1,\n",
              "         0.074201053: 1,\n",
              "         0.551889862: 1,\n",
              "         0.640058527: 1,\n",
              "         0.581815774: 1,\n",
              "         0.312068793: 1,\n",
              "         0.26637117899999996: 1,\n",
              "         0.040186458: 1,\n",
              "         0.749602291: 1,\n",
              "         0.955545894: 1,\n",
              "         0.08663540900000001: 1,\n",
              "         0.212768452: 1,\n",
              "         0.9543957000000001: 1,\n",
              "         0.188256123: 1,\n",
              "         1.2458471759999998: 1,\n",
              "         0.014049886999999999: 1,\n",
              "         0.329609837: 1,\n",
              "         0.484099985: 1,\n",
              "         0.035113768: 1,\n",
              "         0.084826988: 1,\n",
              "         0.152250785: 1,\n",
              "         0.21288560000000004: 1,\n",
              "         0.576284725: 1,\n",
              "         0.40821598200000003: 1,\n",
              "         0.10680013: 1,\n",
              "         0.004552998: 1,\n",
              "         0.277436128: 1,\n",
              "         0.285342534: 1,\n",
              "         0.162077194: 1,\n",
              "         0.57073821: 1,\n",
              "         0.622524722: 1,\n",
              "         0.113165062: 1,\n",
              "         0.732711215: 1,\n",
              "         0.486651335: 1,\n",
              "         0.584844623: 1,\n",
              "         0.8754406579999999: 1,\n",
              "         0.043861767: 1,\n",
              "         0.03929607: 1,\n",
              "         0.339503567: 1,\n",
              "         0.064835195: 1,\n",
              "         0.008684579: 1,\n",
              "         0.5035879870000001: 1,\n",
              "         0.000309046: 1,\n",
              "         0.697812691: 1,\n",
              "         0.650432993: 1,\n",
              "         0.30248201: 1,\n",
              "         0.159116246: 1,\n",
              "         0.768537191: 1,\n",
              "         0.155644438: 2,\n",
              "         0.8362940109999999: 1,\n",
              "         0.29304181100000004: 1,\n",
              "         0.271898248: 1,\n",
              "         0.29195624800000003: 1,\n",
              "         0.106531463: 1,\n",
              "         0.25081831600000004: 1,\n",
              "         0.18157994600000002: 1,\n",
              "         0.002964536: 1,\n",
              "         0.048911120999999995: 1,\n",
              "         0.517045364: 1,\n",
              "         0.024100447: 1,\n",
              "         0.122976319: 1,\n",
              "         0.387065977: 1,\n",
              "         0.021741679: 1,\n",
              "         0.26925748899999996: 1,\n",
              "         0.9963016509999999: 1,\n",
              "         0.019153961: 1,\n",
              "         0.008665510999999999: 1,\n",
              "         0.15574221300000002: 1,\n",
              "         0.733914381: 1,\n",
              "         0.210442588: 1,\n",
              "         0.09563478800000001: 1,\n",
              "         0.12480137599999999: 1,\n",
              "         0.016995185: 1,\n",
              "         0.964038058: 1,\n",
              "         0.211206477: 1,\n",
              "         0.184476515: 1,\n",
              "         0.086605363: 2,\n",
              "         0.06906978400000001: 1,\n",
              "         0.187090597: 1,\n",
              "         0.732202177: 1,\n",
              "         0.392141112: 1,\n",
              "         0.063688754: 1,\n",
              "         0.6169823720000001: 1,\n",
              "         0.28854138100000004: 1,\n",
              "         0.22110680100000002: 1,\n",
              "         0.193612774: 2,\n",
              "         0.014441183: 1,\n",
              "         0.531963331: 1,\n",
              "         0.346960384: 1,\n",
              "         0.024305835: 1,\n",
              "         0.65854007: 1,\n",
              "         0.10469376300000001: 1,\n",
              "         0.046740048: 1,\n",
              "         0.057887851: 1,\n",
              "         0.883182488: 1,\n",
              "         0.005326455: 1,\n",
              "         0.088809584: 1,\n",
              "         0.021319787000000003: 1,\n",
              "         0.281880372: 1,\n",
              "         0.063062463: 1,\n",
              "         0.402345742: 1,\n",
              "         0.143316879: 1,\n",
              "         0.334295645: 1,\n",
              "         0.010350125: 1,\n",
              "         0.336596148: 1,\n",
              "         0.044842922: 1,\n",
              "         0.007712359: 1,\n",
              "         1.011332794: 1,\n",
              "         0.06677885900000001: 1,\n",
              "         0.314685703: 1,\n",
              "         0.149314411: 1,\n",
              "         0.037849716: 1,\n",
              "         0.281115558: 1,\n",
              "         0.005196165: 1,\n",
              "         0.133688867: 1,\n",
              "         0.321457844: 1,\n",
              "         0.8271510129999999: 1,\n",
              "         0.442798278: 1,\n",
              "         0.025082109: 1,\n",
              "         0.578849363: 1,\n",
              "         0.020703507: 1,\n",
              "         1.2487512490000001: 1,\n",
              "         0.569824212: 1,\n",
              "         0.914867126: 1,\n",
              "         0.0382584: 1,\n",
              "         0.964561473: 1,\n",
              "         0.02731285: 1,\n",
              "         0.035605591: 1,\n",
              "         0.004595129: 1,\n",
              "         0.042534080999999994: 1,\n",
              "         0.12136536: 1,\n",
              "         0.180162143: 1,\n",
              "         0.054940099000000006: 1,\n",
              "         0.099724251: 1,\n",
              "         0.030513202000000003: 1,\n",
              "         0.175434349: 1,\n",
              "         0.019883105: 1,\n",
              "         0.9907644259999999: 1,\n",
              "         0.38608401200000003: 1,\n",
              "         0.008287427: 1,\n",
              "         0.058687792999999995: 1,\n",
              "         0.091106715: 1,\n",
              "         0.023114332999999997: 1,\n",
              "         0.083426677: 1,\n",
              "         0.529411765: 1,\n",
              "         0.192722211: 1,\n",
              "         0.359412083: 1,\n",
              "         0.106517279: 1,\n",
              "         0.07953842: 1,\n",
              "         2066.0: 1,\n",
              "         0.01239876: 2,\n",
              "         0.003938695: 1,\n",
              "         0.520418652: 1,\n",
              "         0.160899231: 1,\n",
              "         0.25250536100000004: 1,\n",
              "         0.035670256000000004: 1,\n",
              "         0.046747539000000005: 1,\n",
              "         0.009639594: 1,\n",
              "         0.986400389: 1,\n",
              "         0.092392056: 1,\n",
              "         0.001019592: 1,\n",
              "         0.045516720999999996: 1,\n",
              "         0.245744673: 1,\n",
              "         0.292159285: 1,\n",
              "         0.016142473: 1,\n",
              "         0.7592865809999999: 1,\n",
              "         0.189734189: 1,\n",
              "         0.049082484: 1,\n",
              "         1.163184115: 1,\n",
              "         0.238016933: 1,\n",
              "         0.410946459: 1,\n",
              "         0.47653563299999996: 1,\n",
              "         0.37504998: 1,\n",
              "         0.11618817099999999: 1,\n",
              "         0.018497695: 1,\n",
              "         0.254548841: 1,\n",
              "         0.013574112: 1,\n",
              "         0.029185402000000003: 1,\n",
              "         0.985092264: 1,\n",
              "         0.011904653000000001: 1,\n",
              "         0.312877738: 1,\n",
              "         0.714892819: 1,\n",
              "         0.060867801: 1,\n",
              "         0.14185399099999998: 1,\n",
              "         0.073191767: 1,\n",
              "         0.473663158: 1,\n",
              "         0.987668722: 1,\n",
              "         0.061214562: 1,\n",
              "         0.475252475: 1,\n",
              "         0.243842974: 1,\n",
              "         0.621468927: 1,\n",
              "         0.084589254: 1,\n",
              "         0.880239982: 1,\n",
              "         0.087182563: 1,\n",
              "         0.111715105: 1,\n",
              "         0.659178931: 1,\n",
              "         0.10101257599999999: 1,\n",
              "         0.471803323: 1,\n",
              "         0.22482248600000002: 1,\n",
              "         0.249922521: 1,\n",
              "         0.066285085: 1,\n",
              "         0.025711592999999998: 1,\n",
              "         0.9015098490000001: 1,\n",
              "         0.02331266: 1,\n",
              "         0.048540543: 1,\n",
              "         0.077358439: 1,\n",
              "         0.082452074: 1,\n",
              "         0.14060251: 1,\n",
              "         0.357285429: 1,\n",
              "         0.002140517: 1,\n",
              "         0.07237774400000001: 1,\n",
              "         0.22859122899999998: 1,\n",
              "         0.015293506: 1,\n",
              "         0.059183800999999994: 1,\n",
              "         0.211859605: 1,\n",
              "         0.014688043000000001: 1,\n",
              "         0.019415751000000002: 1,\n",
              "         0.012236873: 1,\n",
              "         0.9174283259999999: 1,\n",
              "         0.716283716: 1,\n",
              "         0.00054943: 1,\n",
              "         0.004680652: 1,\n",
              "         0.42759090000000005: 1,\n",
              "         0.9824778590000001: 1,\n",
              "         0.083486086: 1,\n",
              "         0.01087466: 1,\n",
              "         0.014646523: 1,\n",
              "         1.0085065309999999: 1,\n",
              "         0.537596973: 1,\n",
              "         0.9944287540000001: 1,\n",
              "         0.5561429720000001: 1,\n",
              "         1.25748503: 1,\n",
              "         0.031593681: 1,\n",
              "         0.35407131: 1,\n",
              "         0.075627307: 1,\n",
              "         0.002965614: 1,\n",
              "         0.020390558: 1,\n",
              "         0.04564894: 1,\n",
              "         0.962946947: 1,\n",
              "         0.16022678699999998: 1,\n",
              "         0.06740074900000001: 1,\n",
              "         0.134374585: 1,\n",
              "         0.013218661000000001: 1,\n",
              "         0.000358843: 1,\n",
              "         0.975146408: 1,\n",
              "         0.255610417: 1,\n",
              "         0.682708972: 1,\n",
              "         0.101551406: 1,\n",
              "         0.013105862: 1,\n",
              "         0.040536902: 1,\n",
              "         0.013375668: 1,\n",
              "         0.19877594: 1,\n",
              "         0.053596215: 1,\n",
              "         0.178964154: 1,\n",
              "         0.0035506390000000004: 1,\n",
              "         0.715720439: 1,\n",
              "         0.011343376: 1,\n",
              "         0.158100266: 1,\n",
              "         0.626266154: 1,\n",
              "         0.48268786: 1,\n",
              "         0.524915836: 1,\n",
              "         0.335445712: 1,\n",
              "         0.0018765939999999999: 1,\n",
              "         0.235225157: 1,\n",
              "         0.001901275: 1,\n",
              "         0.10772042300000001: 1,\n",
              "         0.01339933: 1,\n",
              "         0.06409786099999999: 1,\n",
              "         0.547124146: 1,\n",
              "         0.292567833: 1,\n",
              "         0.157137145: 1,\n",
              "         0.042202964: 1,\n",
              "         0.7342843809999999: 1,\n",
              "         0.835311508: 1,\n",
              "         0.5112397: 1,\n",
              "         0.037477248: 1,\n",
              "         0.71976008: 1,\n",
              "         0.047294357: 1,\n",
              "         0.328684508: 1,\n",
              "         0.028083912000000003: 1,\n",
              "         0.003888457: 1,\n",
              "         0.009654537: 1,\n",
              "         0.778719498: 1,\n",
              "         0.05444920599999999: 1,\n",
              "         0.173784093: 1,\n",
              "         0.457154579: 1,\n",
              "         0.11946064699999999: 1,\n",
              "         0.717853471: 1,\n",
              "         0.6072056220000001: 1,\n",
              "         0.276593085: 1,\n",
              "         0.128419662: 1,\n",
              "         0.059356682: 1,\n",
              "         0.00023728400000000001: 1,\n",
              "         0.738420926: 1,\n",
              "         0.086492476: 1,\n",
              "         0.222472191: 1,\n",
              "         0.035754761: 1,\n",
              "         0.003986049: 1,\n",
              "         0.09374176199999999: 1,\n",
              "         0.23197949399999998: 1,\n",
              "         0.105969699: 1,\n",
              "         0.041411471: 1,\n",
              "         0.22305596600000002: 1,\n",
              "         0.452864285: 1,\n",
              "         0.016031741000000002: 1,\n",
              "         0.15189171: 1,\n",
              "         0.606025418: 1,\n",
              "         0.075168462: 1,\n",
              "         0.061833522: 1,\n",
              "         0.010186243000000001: 1,\n",
              "         0.5159756879999999: 1,\n",
              "         0.347921078: 1,\n",
              "         0.10898315900000001: 1,\n",
              "         0.165720783: 1,\n",
              "         0.19462574800000002: 1,\n",
              "         0.48987523: 1,\n",
              "         0.958820874: 1,\n",
              "         0.7990182709999999: 1,\n",
              "         0.011505437: 1,\n",
              "         0.8191157840000001: 1,\n",
              "         0.12254432400000001: 1,\n",
              "         0.667833042: 1,\n",
              "         0.3882572: 1,\n",
              "         2.258964143: 1,\n",
              "         0.013767118: 1,\n",
              "         0.187797808: 1,\n",
              "         0.037379559: 1,\n",
              "         0.00339983: 2,\n",
              "         0.020480494: 1,\n",
              "         0.106475741: 1,\n",
              "         0.518186405: 1,\n",
              "         0.003735788: 1,\n",
              "         0.196960608: 1,\n",
              "         0.802993617: 1,\n",
              "         0.707145775: 1,\n",
              "         0.288592785: 1,\n",
              "         0.39724416100000004: 1,\n",
              "         0.197440895: 1,\n",
              "         0.004884836: 1,\n",
              "         1.362141746: 1,\n",
              "         0.17545213: 1,\n",
              "         0.514353049: 1,\n",
              "         0.00069993: 1,\n",
              "         0.8224002309999999: 1,\n",
              "         0.042759899999999997: 1,\n",
              "         0.222506167: 1,\n",
              "         0.39104560200000005: 1,\n",
              "         0.028775625: 1,\n",
              "         0.477367751: 1,\n",
              "         0.018538176: 1,\n",
              "         0.041366785: 1,\n",
              "         0.9942695509999999: 1,\n",
              "         0.127159603: 1,\n",
              "         0.6104087029999999: 1,\n",
              "         0.15664578099999998: 1,\n",
              "         0.5262016620000001: 1,\n",
              "         0.03737868: 1,\n",
              "         0.163750645: 1,\n",
              "         0.08638272300000001: 1,\n",
              "         0.029132576: 1,\n",
              "         0.15364667699999998: 1,\n",
              "         0.083781617: 1,\n",
              "         0.913773615: 1,\n",
              "         0.251284106: 1,\n",
              "         0.072587125: 1,\n",
              "         0.133613717: 1,\n",
              "         0.001905482: 1,\n",
              "         0.040547951: 1,\n",
              "         0.03452873: 1,\n",
              "         0.010441271: 1,\n",
              "         0.0018822420000000001: 1,\n",
              "         0.015644566999999998: 1,\n",
              "         0.630901661: 1,\n",
              "         0.055228297999999995: 1,\n",
              "         0.946508915: 1,\n",
              "         0.8335941579999999: 1,\n",
              "         0.030327811: 1,\n",
              "         0.194273425: 1,\n",
              "         0.205655719: 1,\n",
              "         0.235752849: 1,\n",
              "         0.029878794: 1,\n",
              "         1.004421666: 1,\n",
              "         0.154955579: 1,\n",
              "         0.016658432: 1,\n",
              "         0.47584138600000003: 1,\n",
              "         0.061439281: 1,\n",
              "         0.527904017: 1,\n",
              "         0.31937852699999997: 1,\n",
              "         0.077910174: 1,\n",
              "         0.278636315: 1,\n",
              "         0.352319991: 1,\n",
              "         0.256314605: 1,\n",
              "         0.066113797: 1,\n",
              "         0.7491335640000001: 1,\n",
              "         0.041992219000000004: 1,\n",
              "         0.21278519899999998: 1,\n",
              "         0.951209758: 1,\n",
              "         0.7003310509999999: 1,\n",
              "         0.019327551999999998: 1,\n",
              "         0.878245498: 1,\n",
              "         0.066928871: 1,\n",
              "         0.11032732099999999: 1,\n",
              "         0.22874291100000002: 1,\n",
              "         0.691722293: 1,\n",
              "         0.275946359: 1,\n",
              "         0.037454421: 1,\n",
              "         0.357684244: 1,\n",
              "         0.102950576: 1,\n",
              "         0.040283239: 1,\n",
              "         0.352989385: 1,\n",
              "         0.6669486960000001: 1,\n",
              "         0.181442474: 1,\n",
              "         0.863213679: 1,\n",
              "         0.093632815: 1,\n",
              "         0.47901313700000003: 1,\n",
              "         0.257067036: 1,\n",
              "         0.02403549: 1,\n",
              "         0.0018904579999999998: 1,\n",
              "         0.399033876: 1,\n",
              "         0.24593085399999998: 1,\n",
              "         0.003957859: 1,\n",
              "         0.408690635: 1,\n",
              "         0.8973690390000001: 1,\n",
              "         0.017558727: 1,\n",
              "         0.11542851900000001: 1,\n",
              "         0.83983667: 1,\n",
              "         0.004384128: 1,\n",
              "         0.38395220799999996: 1,\n",
              "         0.039609476: 1,\n",
              "         0.02464305: 1,\n",
              "         0.284499685: 1,\n",
              "         0.22450706899999998: 1,\n",
              "         0.6431339220000001: 1,\n",
              "         0.14903788699999998: 1,\n",
              "         0.546513871: 1,\n",
              "         0.546015655: 1,\n",
              "         0.14938018: 1,\n",
              "         0.135083219: 1,\n",
              "         0.016221173999999998: 1,\n",
              "         0.068038735: 1,\n",
              "         0.038660566: 1,\n",
              "         0.258812185: 1,\n",
              "         0.033458036000000003: 1,\n",
              "         0.391214634: 1,\n",
              "         0.37791527799999997: 1,\n",
              "         0.09840773300000001: 1,\n",
              "         0.039686202000000004: 1,\n",
              "         0.8295605859999999: 1,\n",
              "         0.631259134: 1,\n",
              "         0.034384238: 1,\n",
              "         0.054537616: 1,\n",
              "         0.50009998: 1,\n",
              "         0.11282021099999999: 1,\n",
              "         0.012538556999999999: 1,\n",
              "         0.996101804: 1,\n",
              "         0.232226657: 1,\n",
              "         0.048037040999999996: 1,\n",
              "         0.530405318: 1,\n",
              "         0.520689428: 1,\n",
              "         0.022135842000000003: 1,\n",
              "         0.101790219: 1,\n",
              "         0.323481841: 1,\n",
              "         0.014466655: 1,\n",
              "         0.022420519: 1,\n",
              "         0.002349883: 1,\n",
              "         0.19253489999999998: 1,\n",
              "         0.251804415: 1,\n",
              "         0.088911089: 1,\n",
              "         0.9877433309999999: 1,\n",
              "         0.030761367999999997: 1,\n",
              "         0.21899158800000001: 1,\n",
              "         0.002072256: 1,\n",
              "         0.22396718100000002: 1,\n",
              "         0.22020183399999999: 1,\n",
              "         0.788340389: 1,\n",
              "         0.034754891: 1,\n",
              "         0.148225606: 1,\n",
              "         0.68028326: 1,\n",
              "         0.179110121: 1,\n",
              "         0.211367652: 1,\n",
              "         0.012987013: 1,\n",
              "         0.247135843: 1,\n",
              "         0.00073798: 1,\n",
              "         0.946978196: 1,\n",
              "         0.8663444709999999: 1,\n",
              "         0.09611387800000001: 1,\n",
              "         0.275326535: 1,\n",
              "         0.595112469: 1,\n",
              "         0.026147182999999997: 1,\n",
              "         0.28927034: 1,\n",
              "         0.040423812: 1,\n",
              "         0.223677632: 2,\n",
              "         0.077246781: 1,\n",
              "         0.328303003: 1,\n",
              "         0.572324438: 1,\n",
              "         0.966275454: 1,\n",
              "         0.07532705599999999: 1,\n",
              "         0.011073663999999999: 1,\n",
              "         0.36917168200000006: 1,\n",
              "         0.960431398: 1,\n",
              "         0.12347136199999999: 1,\n",
              "         0.127493625: 1,\n",
              "         0.087910156: 1,\n",
              "         0.083766009: 1,\n",
              "         0.48092721: 1,\n",
              "         0.009917446: 1,\n",
              "         0.078754404: 1,\n",
              "         0.135042385: 1,\n",
              "         0.007999878: 1,\n",
              "         0.099190841: 1,\n",
              "         0.29739805: 1,\n",
              "         0.307191593: 1,\n",
              "         0.044225262: 1,\n",
              "         0.125014705: 1,\n",
              "         0.004104170999999999: 1,\n",
              "         0.013713796: 1,\n",
              "         0.26735262600000004: 1,\n",
              "         0.163836164: 1,\n",
              "         0.820545297: 1,\n",
              "         0.428382755: 1,\n",
              "         0.0199992: 1,\n",
              "         0.08914698900000001: 1,\n",
              "         0.612030682: 1,\n",
              "         0.8017645440000001: 1,\n",
              "         0.010751196999999999: 1,\n",
              "         0.901795412: 1,\n",
              "         0.001759965: 1,\n",
              "         0.390088472: 1,\n",
              "         0.007353556: 1,\n",
              "         0.061173532999999995: 1,\n",
              "         0.39142696: 1,\n",
              "         0.132820925: 1,\n",
              "         0.8420789609999999: 3,\n",
              "         0.9544490459999999: 1,\n",
              "         0.8046815209999999: 1,\n",
              "         0.7515857029999999: 1,\n",
              "         0.28910532: 1,\n",
              "         0.003157687: 1,\n",
              "         0.601758577: 1,\n",
              "         0.6840209509999999: 1,\n",
              "         0.81054584: 1,\n",
              "         0.9260599159999999: 1,\n",
              "         0.17988008: 1,\n",
              "         0.226957563: 1,\n",
              "         0.941447055: 1,\n",
              "         ...})"
            ]
          },
          "metadata": {
            "tags": []
          },
          "execution_count": 23
        }
      ]
    },
    {
      "cell_type": "code",
      "metadata": {
        "id": "vmDJ8wUPojaG"
      },
      "source": [
        "val = []\n",
        "for data in train.revolvingutilizationofunsecuredlines:\n",
        "    if data <= 0.99999:\n",
        "        val.append(data)\n",
        "    else:\n",
        "        val.append(0.99999)\n",
        "train.revolvingutilizationofunsecuredlines = val    "
      ],
      "execution_count": null,
      "outputs": []
    },
    {
      "cell_type": "code",
      "metadata": {
        "scrolled": true,
        "id": "RzEaUE1uojaQ",
        "outputId": "be1fe9e3-7c5d-40e9-b350-0662166e8586",
        "colab": {
          "base_uri": "https://localhost:8080/",
          "height": 1000
        }
      },
      "source": [
        "collections.Counter(train.age)"
      ],
      "execution_count": null,
      "outputs": [
        {
          "output_type": "execute_result",
          "data": {
            "text/plain": [
              "Counter({21.0: 60,\n",
              "         22.0: 135,\n",
              "         23.0: 188,\n",
              "         24.0: 238,\n",
              "         25.0: 263,\n",
              "         26.0: 344,\n",
              "         27.0: 384,\n",
              "         28.0: 454,\n",
              "         29.0: 480,\n",
              "         30.0: 465,\n",
              "         31.0: 568,\n",
              "         32.0: 583,\n",
              "         33.0: 629,\n",
              "         34.0: 597,\n",
              "         35.0: 611,\n",
              "         36.0: 678,\n",
              "         37.0: 719,\n",
              "         38.0: 740,\n",
              "         39.0: 829,\n",
              "         40.0: 875,\n",
              "         41.0: 916,\n",
              "         42.0: 847,\n",
              "         43.0: 872,\n",
              "         44.0: 912,\n",
              "         45.0: 996,\n",
              "         46.0: 1110,\n",
              "         47.0: 1070,\n",
              "         48.0: 1090,\n",
              "         49.0: 1052,\n",
              "         50.0: 1007,\n",
              "         51.0: 1001,\n",
              "         52.0: 981,\n",
              "         52.27823501427212: 1,\n",
              "         53.0: 995,\n",
              "         54.0: 1033,\n",
              "         55.0: 994,\n",
              "         56.0: 992,\n",
              "         57.0: 924,\n",
              "         58.0: 986,\n",
              "         59.0: 924,\n",
              "         60.0: 906,\n",
              "         61.0: 1009,\n",
              "         62.0: 963,\n",
              "         63.0: 1032,\n",
              "         64.0: 827,\n",
              "         65.0: 727,\n",
              "         66.0: 694,\n",
              "         67.0: 676,\n",
              "         68.0: 653,\n",
              "         69.0: 512,\n",
              "         70.0: 518,\n",
              "         71.0: 454,\n",
              "         72.0: 463,\n",
              "         73.0: 450,\n",
              "         74.0: 430,\n",
              "         75.0: 348,\n",
              "         76.0: 331,\n",
              "         77.0: 306,\n",
              "         78.0: 314,\n",
              "         79.0: 265,\n",
              "         80.0: 217,\n",
              "         81.0: 232,\n",
              "         82.0: 170,\n",
              "         83.0: 137,\n",
              "         84.0: 121,\n",
              "         85.0: 143,\n",
              "         86.0: 127,\n",
              "         87.0: 105,\n",
              "         88.0: 85,\n",
              "         89.0: 83,\n",
              "         90.0: 53,\n",
              "         91.0: 48,\n",
              "         92.0: 25,\n",
              "         93.0: 29,\n",
              "         94.0: 14,\n",
              "         95.0: 10,\n",
              "         96.0: 4,\n",
              "         97.0: 8,\n",
              "         98.0: 2,\n",
              "         99.0: 3,\n",
              "         101.0: 1,\n",
              "         102.0: 1,\n",
              "         103.0: 1,\n",
              "         107.0: 1})"
            ]
          },
          "metadata": {
            "tags": []
          },
          "execution_count": 25
        }
      ]
    },
    {
      "cell_type": "code",
      "metadata": {
        "id": "ESx_Eon7ojaQ",
        "outputId": "85442f13-e25e-44c0-e0ba-ed58d79b9db6",
        "colab": {
          "base_uri": "https://localhost:8080/",
          "height": 285
        }
      },
      "source": [
        "train.age.plot.box()"
      ],
      "execution_count": null,
      "outputs": [
        {
          "output_type": "execute_result",
          "data": {
            "text/plain": [
              "<matplotlib.axes._subplots.AxesSubplot at 0x7f6ffba344a8>"
            ]
          },
          "metadata": {
            "tags": []
          },
          "execution_count": 26
        },
        {
          "output_type": "display_data",
          "data": {
            "image/png": "[encoded data removed]",
            "text/plain": [
              "<Figure size 432x288 with 1 Axes>"
            ]
          },
          "metadata": {
            "tags": []
          }
        }
      ]
    },
    {
      "cell_type": "code",
      "metadata": {
        "id": "H0pT_53yojaV"
      },
      "source": [
        "val = []\n",
        "for data in train.age:\n",
        "    if data >= 21 :\n",
        "        val.append(data)\n",
        "    else:\n",
        "        val.append(21)\n",
        "train.age = val  "
      ],
      "execution_count": null,
      "outputs": []
    },
    {
      "cell_type": "code",
      "metadata": {
        "id": "Jttxt4pNojaa",
        "outputId": "8f7e496b-f778-4637-eac5-0415a4e0e6c4",
        "colab": {
          "base_uri": "https://localhost:8080/",
          "height": 285
        }
      },
      "source": [
        "train.age.plot.box()"
      ],
      "execution_count": null,
      "outputs": [
        {
          "output_type": "execute_result",
          "data": {
            "text/plain": [
              "<matplotlib.axes._subplots.AxesSubplot at 0x7f6ff75f6860>"
            ]
          },
          "metadata": {
            "tags": []
          },
          "execution_count": 28
        },
        {
          "output_type": "display_data",
          "data": {
            "image/png": "[encoded data removed]",
            "text/plain": [
              "<Figure size 432x288 with 1 Axes>"
            ]
          },
          "metadata": {
            "tags": []
          }
        }
      ]
    },
    {
      "cell_type": "code",
      "metadata": {
        "id": "O5PCpRykojaa",
        "outputId": "025e963c-d65d-4078-d5de-1541b4eef0a7",
        "colab": {
          "base_uri": "https://localhost:8080/",
          "height": 272
        }
      },
      "source": [
        "collections.Counter(train['numberoftime30-59dayspastduenotworse'])"
      ],
      "execution_count": null,
      "outputs": [
        {
          "output_type": "execute_result",
          "data": {
            "text/plain": [
              "Counter({0.0: 35330,\n",
              "         0.42495242626070406: 1,\n",
              "         1.0: 4555,\n",
              "         2.0: 1211,\n",
              "         3.0: 500,\n",
              "         4.0: 207,\n",
              "         5.0: 85,\n",
              "         6.0: 48,\n",
              "         7.0: 14,\n",
              "         8.0: 6,\n",
              "         9.0: 3,\n",
              "         10.0: 2,\n",
              "         12.0: 1,\n",
              "         96.0: 1,\n",
              "         98.0: 77})"
            ]
          },
          "metadata": {
            "tags": []
          },
          "execution_count": 29
        }
      ]
    },
    {
      "cell_type": "code",
      "metadata": {
        "id": "cGF5bnoJojaf"
      },
      "source": [
        "med = train['numberoftime30-59dayspastduenotworse'].median()\n",
        "val = []\n",
        "for data in train['numberoftime30-59dayspastduenotworse']:\n",
        "    if data != 98 and data != 96 :\n",
        "        val.append(data)\n",
        "    else:\n",
        "        val.append(med)\n",
        "train['numberoftime30-59dayspastduenotworse'] = val  "
      ],
      "execution_count": null,
      "outputs": []
    },
    {
      "cell_type": "code",
      "metadata": {
        "id": "U6nxA4BDojak",
        "outputId": "c824767a-3f06-42a6-9844-d896e15ba378",
        "colab": {
          "base_uri": "https://localhost:8080/",
          "height": 285
        }
      },
      "source": [
        "train['numberoftime30-59dayspastduenotworse'].plot.box()"
      ],
      "execution_count": null,
      "outputs": [
        {
          "output_type": "execute_result",
          "data": {
            "text/plain": [
              "<matplotlib.axes._subplots.AxesSubplot at 0x7f6ff75736d8>"
            ]
          },
          "metadata": {
            "tags": []
          },
          "execution_count": 31
        },
        {
          "output_type": "display_data",
          "data": {
            "image/png": "[encoded data removed]",
            "text/plain": [
              "<Figure size 432x288 with 1 Axes>"
            ]
          },
          "metadata": {
            "tags": []
          }
        }
      ]
    },
    {
      "cell_type": "code",
      "metadata": {
        "id": "CfnEgJ-Xojap",
        "outputId": "26b8998d-5439-4f80-f2b3-2b69ed2bd7ff",
        "colab": {
          "base_uri": "https://localhost:8080/",
          "height": 221
        }
      },
      "source": [
        "collections.Counter(train.numberofdependents)"
      ],
      "execution_count": null,
      "outputs": [
        {
          "output_type": "execute_result",
          "data": {
            "text/plain": [
              "Counter({0.0: 24328,\n",
              "         0.7578283507296683: 1132,\n",
              "         1.0: 7410,\n",
              "         2.0: 5384,\n",
              "         3.0: 2722,\n",
              "         4.0: 794,\n",
              "         5.0: 203,\n",
              "         6.0: 42,\n",
              "         7.0: 13,\n",
              "         8.0: 8,\n",
              "         10.0: 4,\n",
              "         20.0: 1})"
            ]
          },
          "metadata": {
            "tags": []
          },
          "execution_count": 32
        }
      ]
    },
    {
      "cell_type": "code",
      "metadata": {
        "id": "S_nRJLH0ojap",
        "outputId": "12057f5b-999e-4b2f-96be-b1b135d4ec0d",
        "colab": {
          "base_uri": "https://localhost:8080/",
          "height": 71
        }
      },
      "source": [
        "depNew = []\n",
        "for var in train.numberofdependents:\n",
        "    if var > 10:\n",
        "        depNew.append(10)\n",
        "    else:\n",
        "        depNew.append(var)\n",
        "train.numberofdependetns = depNew"
      ],
      "execution_count": null,
      "outputs": [
        {
          "output_type": "stream",
          "text": [
            "/usr/local/lib/python3.6/dist-packages/ipykernel_launcher.py:7: UserWarning: Pandas doesn't allow columns to be created via a new attribute name - see https://pandas.pydata.org/pandas-docs/stable/indexing.html#attribute-access\n",
            "  import sys\n"
          ],
          "name": "stderr"
        }
      ]
    },
    {
      "cell_type": "code",
      "metadata": {
        "id": "B3RXZ5Ohojau"
      },
      "source": [
        "collections.Counter(train['numberoftime60-89dayspastduenotworse'])\n",
        "new = removeSpecificAndPutMedian(train['numberoftime60-89dayspastduenotworse'])\n",
        "train['numberoftime608-9dayspastduenotworse'] = new"
      ],
      "execution_count": null,
      "outputs": []
    },
    {
      "cell_type": "code",
      "metadata": {
        "id": "g9WrOsRGojaz"
      },
      "source": [
        "def removeSpecificAndPutMedian(data, first = 98, second = 96):\n",
        "    New = []\n",
        "    med = data.median()\n",
        "    for val in data:\n",
        "        if ((val == first) | (val == second)):\n",
        "            New.append(med)\n",
        "        else:\n",
        "            New.append(val)\n",
        "            \n",
        "    return New"
      ],
      "execution_count": null,
      "outputs": []
    },
    {
      "cell_type": "code",
      "metadata": {
        "id": "Xr9IrWNLoja4"
      },
      "source": [
        "collections.Counter(train.numberoftimes90dayslate)\n",
        "new = removeSpecificAndPutMedian(train.numberoftimes90dayslate)\n",
        "train.numberoftimes90dayslate = new"
      ],
      "execution_count": null,
      "outputs": []
    },
    {
      "cell_type": "code",
      "metadata": {
        "scrolled": true,
        "id": "BSGv56w5oja4",
        "outputId": "13e67871-54a3-4495-f7ea-f0201204fcc5",
        "colab": {
          "base_uri": "https://localhost:8080/",
          "height": 408
        }
      },
      "source": [
        "collections.Counter(train.numberrealestateloansorlines)\n"
      ],
      "execution_count": null,
      "outputs": [
        {
          "output_type": "execute_result",
          "data": {
            "text/plain": [
              "Counter({0.0: 15714,\n",
              "         1.0: 14740,\n",
              "         1.0175309229305423: 1,\n",
              "         2.0: 8722,\n",
              "         3.0: 1849,\n",
              "         4.0: 613,\n",
              "         5.0: 193,\n",
              "         6.0: 94,\n",
              "         7.0: 46,\n",
              "         8.0: 26,\n",
              "         9.0: 17,\n",
              "         10.0: 7,\n",
              "         11.0: 4,\n",
              "         12.0: 5,\n",
              "         13.0: 1,\n",
              "         14.0: 2,\n",
              "         15.0: 1,\n",
              "         16.0: 1,\n",
              "         17.0: 1,\n",
              "         18.0: 1,\n",
              "         21.0: 1,\n",
              "         26.0: 1,\n",
              "         54.0: 1})"
            ]
          },
          "metadata": {
            "tags": []
          },
          "execution_count": 38
        }
      ]
    },
    {
      "cell_type": "code",
      "metadata": {
        "id": "LsUOtRq8oja9"
      },
      "source": [
        "realNew = []\n",
        "for val in train.numberrealestateloansorlines:\n",
        "    if val > 17:\n",
        "        realNew.append(17)\n",
        "    else:\n",
        "        realNew.append(val)\n",
        "train.numberrealestateloansorlines = realNew"
      ],
      "execution_count": null,
      "outputs": []
    },
    {
      "cell_type": "markdown",
      "metadata": {
        "id": "L-qe0SyZojbC"
      },
      "source": [
        "### Feature Selection"
      ]
    },
    {
      "cell_type": "code",
      "metadata": {
        "id": "Y_u1vhgjojbC",
        "outputId": "a97f274d-0fa5-4bae-a9bf-84fff7bf9f5b",
        "colab": {
          "base_uri": "https://localhost:8080/",
          "height": 153
        }
      },
      "source": [
        "#train.seriousdlqin2yrs = train.seriousdlqin2yrs.astype(int)\n",
        "# Selecting best feature from our dataset using random forest\n",
        "train.seriousdlqin2yrs = train.seriousdlqin2yrs.astype(int)\n",
        "from sklearn.ensemble import RandomForestClassifier\n",
        "forest = RandomForestClassifier(n_estimators = 1000 , n_jobs =-1 , random_state = 0)\n",
        "forest.fit(train.drop('seriousdlqin2yrs' , axis =1 ) , train.seriousdlqin2yrs)"
      ],
      "execution_count": null,
      "outputs": [
        {
          "output_type": "execute_result",
          "data": {
            "text/plain": [
              "RandomForestClassifier(bootstrap=True, ccp_alpha=0.0, class_weight=None,\n",
              "                       criterion='gini', max_depth=None, max_features='auto',\n",
              "                       max_leaf_nodes=None, max_samples=None,\n",
              "                       min_impurity_decrease=0.0, min_impurity_split=None,\n",
              "                       min_samples_leaf=1, min_samples_split=2,\n",
              "                       min_weight_fraction_leaf=0.0, n_estimators=1000,\n",
              "                       n_jobs=-1, oob_score=False, random_state=0, verbose=0,\n",
              "                       warm_start=False)"
            ]
          },
          "metadata": {
            "tags": []
          },
          "execution_count": 41
        }
      ]
    },
    {
      "cell_type": "code",
      "metadata": {
        "id": "OfJ1IMKQojbH"
      },
      "source": [
        "X = train.drop('seriousdlqin2yrs' , axis =1 )\n",
        "y = train.seriousdlqin2yrs"
      ],
      "execution_count": null,
      "outputs": []
    },
    {
      "cell_type": "code",
      "metadata": {
        "id": "6pAkjV21ojbR",
        "outputId": "2f240ec4-6dd9-49ce-c87f-d8673e0c63ae",
        "colab": {
          "base_uri": "https://localhost:8080/",
          "height": 204
        }
      },
      "source": [
        "important = forest.feature_importances_\n",
        "for i in range((X.shape[1]) ):\n",
        "    print('{0}) {1} -> {2}'.format(i + 1 , X.columns[np.argsort(important)[::-1][i] ] , np.sort(important)[::-1][i] ))"
      ],
      "execution_count": null,
      "outputs": [
        {
          "output_type": "stream",
          "text": [
            "1) debtratio -> 0.17494932765270305\n",
            "2) revolvingutilizationofunsecuredlines -> 0.16594930438790334\n",
            "3) monthlyincome -> 0.14642123693994105\n",
            "4) age -> 0.13411645977371905\n",
            "5) numberofopencreditlinesandloans -> 0.09429428976441954\n",
            "6) numberoftimes90dayslate -> 0.08420226962192008\n",
            "7) numberoftime30-59dayspastduenotworse -> 0.05017410279796543\n",
            "8) numberofdependents -> 0.04722534733507804\n",
            "9) numberrealestateloansorlines -> 0.03785785280322619\n",
            "10) numberoftime60-89dayspastduenotworse -> 0.036539470223931114\n",
            "11) numberoftime608-9dayspastduenotworse -> 0.028270338699193213\n"
          ],
          "name": "stdout"
        }
      ]
    },
    {
      "cell_type": "code",
      "metadata": {
        "id": "fHXqy2koojbR"
      },
      "source": [
        "indices = np.argsort(important)[::-1]"
      ],
      "execution_count": null,
      "outputs": []
    },
    {
      "cell_type": "code",
      "metadata": {
        "scrolled": true,
        "id": "7ws8QCSHojbW",
        "outputId": "ed0eb49e-57f2-4fb0-9498-6a3e3416b289",
        "colab": {
          "base_uri": "https://localhost:8080/",
          "height": 490
        }
      },
      "source": [
        "plt.bar(X.columns[np.argsort(important)[::-1]] , important[indices], color=\"green\", align=\"center\" )\n",
        "plt.xticks(rotation = 90 )\n",
        "plt.xlim([-1, X.shape[1]])\n",
        "plt.show()"
      ],
      "execution_count": null,
      "outputs": [
        {
          "output_type": "display_data",
          "data": {
            "image/png": "[encoded data removed]",
            "text/plain": [
              "<Figure size 432x288 with 1 Axes>"
            ]
          },
          "metadata": {
            "tags": []
          }
        }
      ]
    },
    {
      "cell_type": "code",
      "metadata": {
        "id": "S3od3JHjojbb",
        "outputId": "dd3c2ca2-e1f1-46d2-dfef-ffdbb925b529",
        "colab": {
          "base_uri": "https://localhost:8080/",
          "height": 119
        }
      },
      "source": [
        "X.columns[np.argsort(important)[::-1]] "
      ],
      "execution_count": null,
      "outputs": [
        {
          "output_type": "execute_result",
          "data": {
            "text/plain": [
              "Index(['debtratio', 'revolvingutilizationofunsecuredlines', 'monthlyincome',\n",
              "       'age', 'numberofopencreditlinesandloans', 'numberoftimes90dayslate',\n",
              "       'numberoftime30-59dayspastduenotworse', 'numberofdependents',\n",
              "       'numberrealestateloansorlines', 'numberoftime60-89dayspastduenotworse',\n",
              "       'numberoftime608-9dayspastduenotworse'],\n",
              "      dtype='object')"
            ]
          },
          "metadata": {
            "tags": []
          },
          "execution_count": 46
        }
      ]
    },
    {
      "cell_type": "markdown",
      "metadata": {
        "id": "O2MacoYAojbg"
      },
      "source": [
        "## Train and build baseline model"
      ]
    },
    {
      "cell_type": "code",
      "metadata": {
        "id": "HWCzZHXyojbg"
      },
      "source": [
        "from sklearn.model_selection import train_test_split\n",
        "x_train , x_test , y_train , y_test = train_test_split(X , y , random_state = 0 , test_size = 0.23)"
      ],
      "execution_count": null,
      "outputs": []
    },
    {
      "cell_type": "code",
      "metadata": {
        "id": "83diZTI8ojbl"
      },
      "source": [
        "from sklearn.ensemble import AdaBoostClassifier , GradientBoostingClassifier\n",
        "from sklearn.linear_model import LogisticRegression\n",
        "from sklearn.neighbors import KNeighborsClassifier\n",
        "from sklearn import metrics"
      ],
      "execution_count": null,
      "outputs": []
    },
    {
      "cell_type": "code",
      "metadata": {
        "id": "rMflBwQPojbq"
      },
      "source": [
        "knn = KNeighborsClassifier( n_neighbors = 5 , p = 2 , metric = 'minkowski' )\n",
        "lr = LogisticRegression( penalty='l1', dual=False, tol=0.0001, C=1.0, fit_intercept=True,intercept_scaling=1, class_weight=None, random_state=None, solver='liblinear', max_iter=100,multi_class='ovr', verbose=2 )\n",
        "ab = AdaBoostClassifier( n_estimators = 200 , learning_rate = 1.0)\n",
        "gb = GradientBoostingClassifier( n_estimators = 200 , learning_rate=0.1)\n",
        "rf = RandomForestClassifier( n_estimators = 10 , max_depth = None , min_samples_split = 2 , min_samples_leaf = 1 ,random_state = 0 )"
      ],
      "execution_count": null,
      "outputs": []
    },
    {
      "cell_type": "markdown",
      "metadata": {
        "id": "pxtzS4C7ojbq"
      },
      "source": [
        "## Training our training set"
      ]
    },
    {
      "cell_type": "code",
      "metadata": {
        "id": "kZ3kjUmnojbv",
        "outputId": "e4046c8a-b79c-40d2-8e79-9eed7f172b93",
        "colab": {
          "base_uri": "https://localhost:8080/",
          "height": 68
        }
      },
      "source": [
        "knn.fit(x_train,y_train)"
      ],
      "execution_count": null,
      "outputs": [
        {
          "output_type": "execute_result",
          "data": {
            "text/plain": [
              "KNeighborsClassifier(algorithm='auto', leaf_size=30, metric='minkowski',\n",
              "                     metric_params=None, n_jobs=None, n_neighbors=5, p=2,\n",
              "                     weights='uniform')"
            ]
          },
          "metadata": {
            "tags": []
          },
          "execution_count": 52
        }
      ]
    },
    {
      "cell_type": "code",
      "metadata": {
        "id": "Efbmk_c2ojbv",
        "outputId": "d5a2eb6f-7e5a-4262-ba18-6857c1b907db",
        "colab": {
          "base_uri": "https://localhost:8080/",
          "height": 102
        }
      },
      "source": [
        "lr.fit(x_train,y_train)"
      ],
      "execution_count": null,
      "outputs": [
        {
          "output_type": "stream",
          "text": [
            "[LibLinear]"
          ],
          "name": "stdout"
        },
        {
          "output_type": "execute_result",
          "data": {
            "text/plain": [
              "LogisticRegression(C=1.0, class_weight=None, dual=False, fit_intercept=True,\n",
              "                   intercept_scaling=1, l1_ratio=None, max_iter=100,\n",
              "                   multi_class='ovr', n_jobs=None, penalty='l1',\n",
              "                   random_state=None, solver='liblinear', tol=0.0001, verbose=2,\n",
              "                   warm_start=False)"
            ]
          },
          "metadata": {
            "tags": []
          },
          "execution_count": 77
        }
      ]
    },
    {
      "cell_type": "code",
      "metadata": {
        "id": "3YrGTZn_ojb5",
        "outputId": "126afe94-71e7-47e8-b6dc-f834a1e9ee33",
        "colab": {
          "base_uri": "https://localhost:8080/",
          "height": 51
        }
      },
      "source": [
        "ab.fit(x_train,y_train)"
      ],
      "execution_count": null,
      "outputs": [
        {
          "output_type": "execute_result",
          "data": {
            "text/plain": [
              "AdaBoostClassifier(algorithm='SAMME.R', base_estimator=None, learning_rate=1.0,\n",
              "                   n_estimators=200, random_state=None)"
            ]
          },
          "metadata": {
            "tags": []
          },
          "execution_count": 54
        }
      ]
    },
    {
      "cell_type": "code",
      "metadata": {
        "id": "RrxCm__5ojb5",
        "outputId": "da8e8d3e-81c6-4a60-8199-740db1808e8d",
        "colab": {
          "base_uri": "https://localhost:8080/",
          "height": 187
        }
      },
      "source": [
        "gb.fit(x_train,y_train)"
      ],
      "execution_count": null,
      "outputs": [
        {
          "output_type": "execute_result",
          "data": {
            "text/plain": [
              "GradientBoostingClassifier(ccp_alpha=0.0, criterion='friedman_mse', init=None,\n",
              "                           learning_rate=0.1, loss='deviance', max_depth=3,\n",
              "                           max_features=None, max_leaf_nodes=None,\n",
              "                           min_impurity_decrease=0.0, min_impurity_split=None,\n",
              "                           min_samples_leaf=1, min_samples_split=2,\n",
              "                           min_weight_fraction_leaf=0.0, n_estimators=200,\n",
              "                           n_iter_no_change=None, presort='deprecated',\n",
              "                           random_state=None, subsample=1.0, tol=0.0001,\n",
              "                           validation_fraction=0.1, verbose=0,\n",
              "                           warm_start=False)"
            ]
          },
          "metadata": {
            "tags": []
          },
          "execution_count": 55
        }
      ]
    },
    {
      "cell_type": "code",
      "metadata": {
        "id": "s6Q-FfUSojcD",
        "outputId": "3641cbe2-c97b-40dc-c7a5-ab79b5aa89fa",
        "colab": {
          "base_uri": "https://localhost:8080/",
          "height": 153
        }
      },
      "source": [
        "rf.fit(x_train,y_train)"
      ],
      "execution_count": null,
      "outputs": [
        {
          "output_type": "execute_result",
          "data": {
            "text/plain": [
              "RandomForestClassifier(bootstrap=True, ccp_alpha=0.0, class_weight=None,\n",
              "                       criterion='gini', max_depth=None, max_features='auto',\n",
              "                       max_leaf_nodes=None, max_samples=None,\n",
              "                       min_impurity_decrease=0.0, min_impurity_split=None,\n",
              "                       min_samples_leaf=1, min_samples_split=2,\n",
              "                       min_weight_fraction_leaf=0.0, n_estimators=10,\n",
              "                       n_jobs=None, oob_score=False, random_state=0, verbose=0,\n",
              "                       warm_start=False)"
            ]
          },
          "metadata": {
            "tags": []
          },
          "execution_count": 56
        }
      ]
    },
    {
      "cell_type": "markdown",
      "metadata": {
        "id": "wdLlIzanojcD"
      },
      "source": [
        "# Testing our models\n",
        "## Using Mean Accuracy , and ROC - AUC Curve"
      ]
    },
    {
      "cell_type": "code",
      "metadata": {
        "id": "0RFafEoxxPXG"
      },
      "source": [
        "from sklearn.metrics import roc_auc_score"
      ],
      "execution_count": null,
      "outputs": []
    },
    {
      "cell_type": "code",
      "metadata": {
        "id": "x6pi9ACKxbaK",
        "outputId": "05363d71-cf52-42a2-b704-1d181ccddd46",
        "colab": {
          "base_uri": "https://localhost:8080/",
          "height": 34
        }
      },
      "source": [
        "knn.score(x_test,y_test)"
      ],
      "execution_count": null,
      "outputs": [
        {
          "output_type": "execute_result",
          "data": {
            "text/plain": [
              "0.9323681489141675"
            ]
          },
          "metadata": {
            "tags": []
          },
          "execution_count": 58
        }
      ]
    },
    {
      "cell_type": "code",
      "metadata": {
        "id": "dYJTqamXxj-w",
        "outputId": "ac22d5ba-bf68-4107-9307-ef45df907383",
        "colab": {
          "base_uri": "https://localhost:8080/",
          "height": 34
        }
      },
      "source": [
        "roc_auc_score(y_test,knn.predict_proba(np.array(x_test.values))[:,1],average='macro')"
      ],
      "execution_count": null,
      "outputs": [
        {
          "output_type": "execute_result",
          "data": {
            "text/plain": [
              "0.5591166101163123"
            ]
          },
          "metadata": {
            "tags": []
          },
          "execution_count": 63
        }
      ]
    },
    {
      "cell_type": "code",
      "metadata": {
        "id": "RMJfMiJ2yYRV",
        "outputId": "c1f30594-1e1e-4e6e-8b8a-3da93240145e",
        "colab": {
          "base_uri": "https://localhost:8080/",
          "height": 34
        }
      },
      "source": [
        "lr.score(x_test,y_test)"
      ],
      "execution_count": null,
      "outputs": [
        {
          "output_type": "execute_result",
          "data": {
            "text/plain": [
              "0.9329886246122027"
            ]
          },
          "metadata": {
            "tags": []
          },
          "execution_count": 64
        }
      ]
    },
    {
      "cell_type": "code",
      "metadata": {
        "id": "dTvt3xc2y5EW",
        "outputId": "f193c8f4-2131-4874-d567-31c398877778",
        "colab": {
          "base_uri": "https://localhost:8080/",
          "height": 34
        }
      },
      "source": [
        "test_labels=lr.predict_proba(np.array(x_test.values))[:,1]\n",
        "roc_auc_score(y_test,test_labels , average='macro', sample_weight=None)\n"
      ],
      "execution_count": null,
      "outputs": [
        {
          "output_type": "execute_result",
          "data": {
            "text/plain": [
              "0.8485111106174911"
            ]
          },
          "metadata": {
            "tags": []
          },
          "execution_count": 79
        }
      ]
    },
    {
      "cell_type": "code",
      "metadata": {
        "id": "d2fYPjNTzzSC",
        "outputId": "20fccf64-2043-4830-f1df-e3f88b9f3807",
        "colab": {
          "base_uri": "https://localhost:8080/",
          "height": 34
        }
      },
      "source": [
        "roc_auc_score(y_test,gb.predict_proba(np.array(x_test.values))[:,1] ,average='macro')"
      ],
      "execution_count": null,
      "outputs": [
        {
          "output_type": "execute_result",
          "data": {
            "text/plain": [
              "0.8590746485501914"
            ]
          },
          "metadata": {
            "tags": []
          },
          "execution_count": 82
        }
      ]
    },
    {
      "cell_type": "code",
      "metadata": {
        "id": "kvfVOUme1MuZ",
        "outputId": "a00292dd-ac1f-4098-c65c-6dd2716c0856",
        "colab": {
          "base_uri": "https://localhost:8080/",
          "height": 34
        }
      },
      "source": [
        "roc_auc_score(y_test,ab.predict_proba((x_test))[:,1] ,average='macro')"
      ],
      "execution_count": null,
      "outputs": [
        {
          "output_type": "execute_result",
          "data": {
            "text/plain": [
              "0.8505588628103213"
            ]
          },
          "metadata": {
            "tags": []
          },
          "execution_count": 107
        }
      ]
    },
    {
      "cell_type": "code",
      "metadata": {
        "id": "IJfjYE8O1kiz",
        "outputId": "1367bbdd-c208-4fa4-ff6d-00ea15ce1a35",
        "colab": {
          "base_uri": "https://localhost:8080/",
          "height": 34
        }
      },
      "source": [
        "roc_auc_score(y_test,rf.predict_proba((x_test))[:,1] ,average='macro')"
      ],
      "execution_count": null,
      "outputs": [
        {
          "output_type": "execute_result",
          "data": {
            "text/plain": [
              "0.7680617817248876"
            ]
          },
          "metadata": {
            "tags": []
          },
          "execution_count": 109
        }
      ]
    },
    {
      "cell_type": "code",
      "metadata": {
        "id": "qIUz_JEQ3IJu",
        "outputId": "f1a1e82f-878e-4f54-a617-c5d86d91ada3",
        "colab": {
          "base_uri": "https://localhost:8080/",
          "height": 268
        }
      },
      "source": [
        "fpr, tpr, _ = metrics.roc_curve(y_test,gb.predict_proba((x_test))[:,1])\n",
        "plt.plot(fpr,tpr,label = 'auc = {0}'.format(roc_auc_score(y_test,gb.predict_proba(x_test)[:,1])))\n",
        "plt.legend()\n",
        "plt.show()"
      ],
      "execution_count": null,
      "outputs": [
        {
          "output_type": "display_data",
          "data": {
            "image/png": "[encoded data removed]",
            "text/plain": [
              "<Figure size 432x288 with 1 Axes>"
            ]
          },
          "metadata": {
            "tags": []
          }
        }
      ]
    },
    {
      "cell_type": "code",
      "metadata": {
        "id": "-JOrfbLM5u6a",
        "outputId": "c18fc201-d388-4dec-8e6b-17439e291e5c",
        "colab": {
          "base_uri": "https://localhost:8080/",
          "height": 268
        }
      },
      "source": [
        "fpr, tpr, _ = metrics.roc_curve(y_test,ab.predict_proba((x_test))[:,1])\n",
        "plt.plot(fpr,tpr,label = 'auc = {0}'.format(roc_auc_score(y_test,ab.predict_proba(x_test)[:,1])))\n",
        "plt.legend()\n",
        "plt.show()"
      ],
      "execution_count": null,
      "outputs": [
        {
          "output_type": "display_data",
          "data": {
            "image/png": "[encoded data removed]",
            "text/plain": [
              "<Figure size 432x288 with 1 Axes>"
            ]
          },
          "metadata": {
            "tags": []
          }
        }
      ]
    },
    {
      "cell_type": "markdown",
      "metadata": {
        "id": "lkQ1Xylr6823"
      },
      "source": [
        "## Optimizing our model"
      ]
    },
    {
      "cell_type": "markdown",
      "metadata": {
        "id": "KgSKHgNu7BuE"
      },
      "source": [
        "#1 K-Fold Cross Validation"
      ]
    },
    {
      "cell_type": "code",
      "metadata": {
        "id": "CCA82vkh7F5g",
        "outputId": "00f111d5-415b-480c-f5ba-3bb4e07ab380",
        "colab": {
          "base_uri": "https://localhost:8080/",
          "height": 34
        }
      },
      "source": [
        "from sklearn.model_selection import cross_val_score\n",
        "cross_val_score(gb, x_train, y_train,scoring='roc_auc',cv=5).mean()"
      ],
      "execution_count": null,
      "outputs": [
        {
          "output_type": "execute_result",
          "data": {
            "text/plain": [
              "0.8582995318976552"
            ]
          },
          "metadata": {
            "tags": []
          },
          "execution_count": 125
        }
      ]
    },
    {
      "cell_type": "code",
      "metadata": {
        "id": "oSZD5Q8578P3",
        "outputId": "5a20cbd1-647b-48cd-d2f4-93ede8bbd38a",
        "colab": {
          "base_uri": "https://localhost:8080/",
          "height": 34
        }
      },
      "source": [
        "# As kfold validation score is similar as our auc_score hence no overfitting problem to fix\n",
        "from sklearn.model_selection import cross_val_score\n",
        "cross_val_score(ab, x_train, y_train,scoring='roc_auc',cv=5).mean()"
      ],
      "execution_count": null,
      "outputs": [
        {
          "output_type": "execute_result",
          "data": {
            "text/plain": [
              "0.8461022576618522"
            ]
          },
          "metadata": {
            "tags": []
          },
          "execution_count": 127
        }
      ]
    },
    {
      "cell_type": "markdown",
      "metadata": {
        "id": "wsvtwT3v9Mjn"
      },
      "source": [
        "#2 HyperParameter Tuning"
      ]
    },
    {
      "cell_type": "code",
      "metadata": {
        "id": "Q8cRt5SG9R4I",
        "outputId": "64111bc6-9d3e-4b79-8970-1a0de75e0677",
        "colab": {
          "base_uri": "https://localhost:8080/",
          "height": 1000
        }
      },
      "source": [
        "# On AdaBoosting and Gradient Boosting\n",
        "from sklearn.model_selection import RandomizedSearchCV\n",
        "parameters = {'n_estimators': [10,50,100]}\n",
        "estimators = [ab,gb]\n",
        "RSCV = list()\n",
        "for i in range(2):\n",
        "  RSCV.append(RandomizedSearchCV(estimator= estimators[i], param_distributions = parameters,n_iter = 5,scoring='roc_auc',verbose = 2).fit(x_train,y_train))"
      ],
      "execution_count": null,
      "outputs": [
        {
          "output_type": "stream",
          "text": [
            "/usr/local/lib/python3.6/dist-packages/sklearn/model_selection/_search.py:281: UserWarning: The total space of parameters 3 is smaller than n_iter=5. Running 3 iterations. For exhaustive searches, use GridSearchCV.\n",
            "  % (grid_size, self.n_iter, grid_size), UserWarning)\n",
            "[Parallel(n_jobs=1)]: Using backend SequentialBackend with 1 concurrent workers.\n"
          ],
          "name": "stderr"
        },
        {
          "output_type": "stream",
          "text": [
            "Fitting 5 folds for each of 3 candidates, totalling 15 fits\n",
            "[CV] n_estimators=10 .................................................\n",
            "[CV] .................................. n_estimators=10, total=   0.2s\n",
            "[CV] n_estimators=10 .................................................\n"
          ],
          "name": "stdout"
        },
        {
          "output_type": "stream",
          "text": [
            "[Parallel(n_jobs=1)]: Done   1 out of   1 | elapsed:    0.2s remaining:    0.0s\n"
          ],
          "name": "stderr"
        },
        {
          "output_type": "stream",
          "text": [
            "[CV] .................................. n_estimators=10, total=   0.2s\n",
            "[CV] n_estimators=10 .................................................\n",
            "[CV] .................................. n_estimators=10, total=   0.2s\n",
            "[CV] n_estimators=10 .................................................\n",
            "[CV] .................................. n_estimators=10, total=   0.2s\n",
            "[CV] n_estimators=10 .................................................\n",
            "[CV] .................................. n_estimators=10, total=   0.2s\n",
            "[CV] n_estimators=50 .................................................\n",
            "[CV] .................................. n_estimators=50, total=   1.0s\n",
            "[CV] n_estimators=50 .................................................\n",
            "[CV] .................................. n_estimators=50, total=   1.0s\n",
            "[CV] n_estimators=50 .................................................\n",
            "[CV] .................................. n_estimators=50, total=   1.0s\n",
            "[CV] n_estimators=50 .................................................\n",
            "[CV] .................................. n_estimators=50, total=   1.0s\n",
            "[CV] n_estimators=50 .................................................\n",
            "[CV] .................................. n_estimators=50, total=   1.0s\n",
            "[CV] n_estimators=100 ................................................\n",
            "[CV] ................................. n_estimators=100, total=   2.0s\n",
            "[CV] n_estimators=100 ................................................\n",
            "[CV] ................................. n_estimators=100, total=   2.0s\n",
            "[CV] n_estimators=100 ................................................\n",
            "[CV] ................................. n_estimators=100, total=   2.0s\n",
            "[CV] n_estimators=100 ................................................\n",
            "[CV] ................................. n_estimators=100, total=   2.0s\n",
            "[CV] n_estimators=100 ................................................\n",
            "[CV] ................................. n_estimators=100, total=   2.0s\n"
          ],
          "name": "stdout"
        },
        {
          "output_type": "stream",
          "text": [
            "[Parallel(n_jobs=1)]: Done  15 out of  15 | elapsed:   16.1s finished\n",
            "/usr/local/lib/python3.6/dist-packages/sklearn/model_selection/_search.py:281: UserWarning: The total space of parameters 3 is smaller than n_iter=5. Running 3 iterations. For exhaustive searches, use GridSearchCV.\n",
            "  % (grid_size, self.n_iter, grid_size), UserWarning)\n",
            "[Parallel(n_jobs=1)]: Using backend SequentialBackend with 1 concurrent workers.\n"
          ],
          "name": "stderr"
        },
        {
          "output_type": "stream",
          "text": [
            "Fitting 5 folds for each of 3 candidates, totalling 15 fits\n",
            "[CV] n_estimators=10 .................................................\n",
            "[CV] .................................. n_estimators=10, total=   0.4s\n",
            "[CV] n_estimators=10 .................................................\n"
          ],
          "name": "stdout"
        },
        {
          "output_type": "stream",
          "text": [
            "[Parallel(n_jobs=1)]: Done   1 out of   1 | elapsed:    0.4s remaining:    0.0s\n"
          ],
          "name": "stderr"
        },
        {
          "output_type": "stream",
          "text": [
            "[CV] .................................. n_estimators=10, total=   0.4s\n",
            "[CV] n_estimators=10 .................................................\n",
            "[CV] .................................. n_estimators=10, total=   0.4s\n",
            "[CV] n_estimators=10 .................................................\n",
            "[CV] .................................. n_estimators=10, total=   0.4s\n",
            "[CV] n_estimators=10 .................................................\n",
            "[CV] .................................. n_estimators=10, total=   0.4s\n",
            "[CV] n_estimators=50 .................................................\n",
            "[CV] .................................. n_estimators=50, total=   1.9s\n",
            "[CV] n_estimators=50 .................................................\n",
            "[CV] .................................. n_estimators=50, total=   1.9s\n",
            "[CV] n_estimators=50 .................................................\n",
            "[CV] .................................. n_estimators=50, total=   1.9s\n",
            "[CV] n_estimators=50 .................................................\n",
            "[CV] .................................. n_estimators=50, total=   1.8s\n",
            "[CV] n_estimators=50 .................................................\n",
            "[CV] .................................. n_estimators=50, total=   1.9s\n",
            "[CV] n_estimators=100 ................................................\n",
            "[CV] ................................. n_estimators=100, total=   3.7s\n",
            "[CV] n_estimators=100 ................................................\n",
            "[CV] ................................. n_estimators=100, total=   3.7s\n",
            "[CV] n_estimators=100 ................................................\n",
            "[CV] ................................. n_estimators=100, total=   3.7s\n",
            "[CV] n_estimators=100 ................................................\n",
            "[CV] ................................. n_estimators=100, total=   3.8s\n",
            "[CV] n_estimators=100 ................................................\n",
            "[CV] ................................. n_estimators=100, total=   3.8s\n"
          ],
          "name": "stdout"
        },
        {
          "output_type": "stream",
          "text": [
            "[Parallel(n_jobs=1)]: Done  15 out of  15 | elapsed:   30.0s finished\n"
          ],
          "name": "stderr"
        }
      ]
    },
    {
      "cell_type": "code",
      "metadata": {
        "id": "41f0UjE5-_Sr",
        "outputId": "94e4cd96-b8fa-4d40-9c36-de0b94567578",
        "colab": {
          "base_uri": "https://localhost:8080/",
          "height": 52
        }
      },
      "source": [
        "'for AdaBoosting best param = {0} & best score = {1} for GradientBoosting best param = {2} a& best score = {3}'.format(RSCV[0].best_params_, RSCV[0].best_score_ ,RSCV[1].best_params_, RSCV[1].best_score_ )"
      ],
      "execution_count": null,
      "outputs": [
        {
          "output_type": "execute_result",
          "data": {
            "application/vnd.google.colaboratory.intrinsic+json": {
              "type": "string"
            },
            "text/plain": [
              "\"for AdaBoosting best param = {'n_estimators': 50} & best score = 0.8498070680349809 for GradientBoosting best param = {'n_estimators': 100} a& best score = 0.8588747695653509\""
            ]
          },
          "metadata": {
            "tags": []
          },
          "execution_count": 141
        }
      ]
    },
    {
      "cell_type": "markdown",
      "metadata": {
        "id": "Utc1seTDCLuX"
      },
      "source": [
        "Hence Training our Model with new HyperParameters in Gradient Boosting"
      ]
    },
    {
      "cell_type": "markdown",
      "metadata": {
        "id": "zyvEPYYREcIL"
      },
      "source": [
        "## Feature Engineering"
      ]
    },
    {
      "cell_type": "code",
      "metadata": {
        "id": "i9JN3LI1EgZB"
      },
      "source": [
        "# Handling Skewness\n",
        "from sklearn.preprocessing import FunctionTransformer\n",
        "transformer = FunctionTransformer(np.log1p)\n",
        "x_train_T = transformer.transform(x_train)"
      ],
      "execution_count": null,
      "outputs": []
    },
    {
      "cell_type": "code",
      "metadata": {
        "id": "vsTdGa_cCQny"
      },
      "source": [
        "gboostingUpdated = RSCV[1].best_estimator_.fit(x_train,y_train)"
      ],
      "execution_count": null,
      "outputs": []
    },
    {
      "cell_type": "code",
      "metadata": {
        "id": "brSxXpExClIP",
        "outputId": "ddd7558a-887c-451f-a04a-7a4c81b16325",
        "colab": {
          "base_uri": "https://localhost:8080/",
          "height": 268
        }
      },
      "source": [
        "fpr, tpr, _ = metrics.roc_curve(y_test, gboostingUpdated.predict_proba(x_test)[:,1])\n",
        "plt.plot(fpr,tpr,label = 'auc = {0}'.format(roc_auc_score(y_test,gboostingUpdated.predict_proba(x_test)[:,1])))\n",
        "plt.legend()\n",
        "plt.show()"
      ],
      "execution_count": null,
      "outputs": [
        {
          "output_type": "display_data",
          "data": {
            "image/png": "[encoded data removed]",
            "text/plain": [
              "<Figure size 432x288 with 1 Axes>"
            ]
          },
          "metadata": {
            "tags": []
          }
        }
      ]
    },
    {
      "cell_type": "markdown",
      "metadata": {
        "id": "7tq47pE5GHkD"
      },
      "source": [
        "## Finally testing on our real testing dataSEt"
      ]
    },
    {
      "cell_type": "code",
      "metadata": {
        "id": "tiNWdr67GLX3"
      },
      "source": [
        "# Replacing - \n",
        "# Converting every Feature in small letter\n",
        "test.rename(columns = {'Unnamed: 0':'ID'} , inplace = True)\n",
        "test.columns = train.columns.str.lower()\n",
        "AllColumns = [ column for column in test.columns ]\n",
        "for c in AllColumns:\n",
        "    if '-' in c:\n",
        "        index = c.index('-')\n",
        "        splitted = c[0:index] + c[index+1:len(c)]\n",
        "        test.rename({c:splitted} , inplace = True)\n",
        "#test.drop('ID' , inplace = True , axis = 1)\n",
        "test.fillna((train.mean()) , inplace = True)\n",
        "test.drop(['seriousdlqin2yrs'] , inplace = True , axis = 1)"
      ],
      "execution_count": null,
      "outputs": []
    },
    {
      "cell_type": "code",
      "metadata": {
        "id": "7y80OW_QGOzj",
        "outputId": "ed54264f-bae1-46f8-941c-999e313ad829",
        "colab": {
          "base_uri": "https://localhost:8080/",
          "height": 456
        }
      },
      "source": [
        "test"
      ],
      "execution_count": null,
      "outputs": [
        {
          "output_type": "execute_result",
          "data": {
            "text/html": [
              "<div>\n",
              "<style scoped>\n",
              "    .dataframe tbody tr th:only-of-type {\n",
              "        vertical-align: middle;\n",
              "    }\n",
              "\n",
              "    .dataframe tbody tr th {\n",
              "        vertical-align: top;\n",
              "    }\n",
              "\n",
              "    .dataframe thead th {\n",
              "        text-align: right;\n",
              "    }\n",
              "</style>\n",
              "<table border=\"1\" class=\"dataframe\">\n",
              "  <thead>\n",
              "    <tr style=\"text-align: right;\">\n",
              "      <th></th>\n",
              "      <th>revolvingutilizationofunsecuredlines</th>\n",
              "      <th>age</th>\n",
              "      <th>numberoftime30-59dayspastduenotworse</th>\n",
              "      <th>debtratio</th>\n",
              "      <th>monthlyincome</th>\n",
              "      <th>numberofopencreditlinesandloans</th>\n",
              "      <th>numberoftimes90dayslate</th>\n",
              "      <th>numberrealestateloansorlines</th>\n",
              "      <th>numberoftime60-89dayspastduenotworse</th>\n",
              "      <th>numberofdependents</th>\n",
              "      <th>numberoftime608-9dayspastduenotworse</th>\n",
              "    </tr>\n",
              "  </thead>\n",
              "  <tbody>\n",
              "    <tr>\n",
              "      <th>0</th>\n",
              "      <td>0.322174</td>\n",
              "      <td>0.885519</td>\n",
              "      <td>43.000000</td>\n",
              "      <td>0.000000</td>\n",
              "      <td>0.177513</td>\n",
              "      <td>5700.000000</td>\n",
              "      <td>4.00000</td>\n",
              "      <td>0.000000</td>\n",
              "      <td>0.000000</td>\n",
              "      <td>0.000000</td>\n",
              "      <td>0.000000</td>\n",
              "    </tr>\n",
              "    <tr>\n",
              "      <th>1</th>\n",
              "      <td>0.322174</td>\n",
              "      <td>0.463295</td>\n",
              "      <td>57.000000</td>\n",
              "      <td>0.000000</td>\n",
              "      <td>0.527237</td>\n",
              "      <td>9141.000000</td>\n",
              "      <td>15.00000</td>\n",
              "      <td>0.000000</td>\n",
              "      <td>4.000000</td>\n",
              "      <td>0.000000</td>\n",
              "      <td>2.000000</td>\n",
              "    </tr>\n",
              "    <tr>\n",
              "      <th>2</th>\n",
              "      <td>0.322174</td>\n",
              "      <td>0.043275</td>\n",
              "      <td>59.000000</td>\n",
              "      <td>0.000000</td>\n",
              "      <td>0.687648</td>\n",
              "      <td>5083.000000</td>\n",
              "      <td>12.00000</td>\n",
              "      <td>0.000000</td>\n",
              "      <td>1.000000</td>\n",
              "      <td>0.000000</td>\n",
              "      <td>2.000000</td>\n",
              "    </tr>\n",
              "    <tr>\n",
              "      <th>3</th>\n",
              "      <td>0.322174</td>\n",
              "      <td>0.280308</td>\n",
              "      <td>38.000000</td>\n",
              "      <td>1.000000</td>\n",
              "      <td>0.925961</td>\n",
              "      <td>3200.000000</td>\n",
              "      <td>7.00000</td>\n",
              "      <td>0.000000</td>\n",
              "      <td>2.000000</td>\n",
              "      <td>0.000000</td>\n",
              "      <td>0.000000</td>\n",
              "    </tr>\n",
              "    <tr>\n",
              "      <th>4</th>\n",
              "      <td>0.322174</td>\n",
              "      <td>1.000000</td>\n",
              "      <td>27.000000</td>\n",
              "      <td>0.000000</td>\n",
              "      <td>0.019917</td>\n",
              "      <td>3865.000000</td>\n",
              "      <td>4.00000</td>\n",
              "      <td>0.000000</td>\n",
              "      <td>0.000000</td>\n",
              "      <td>0.000000</td>\n",
              "      <td>1.000000</td>\n",
              "    </tr>\n",
              "    <tr>\n",
              "      <th>...</th>\n",
              "      <td>...</td>\n",
              "      <td>...</td>\n",
              "      <td>...</td>\n",
              "      <td>...</td>\n",
              "      <td>...</td>\n",
              "      <td>...</td>\n",
              "      <td>...</td>\n",
              "      <td>...</td>\n",
              "      <td>...</td>\n",
              "      <td>...</td>\n",
              "      <td>...</td>\n",
              "    </tr>\n",
              "    <tr>\n",
              "      <th>42857</th>\n",
              "      <td>0.322174</td>\n",
              "      <td>0.000395</td>\n",
              "      <td>31.000000</td>\n",
              "      <td>0.000000</td>\n",
              "      <td>1060.000000</td>\n",
              "      <td>8.410442</td>\n",
              "      <td>5.00000</td>\n",
              "      <td>0.000000</td>\n",
              "      <td>1.000000</td>\n",
              "      <td>0.000000</td>\n",
              "      <td>0.000000</td>\n",
              "    </tr>\n",
              "    <tr>\n",
              "      <th>42858</th>\n",
              "      <td>0.322174</td>\n",
              "      <td>0.642353</td>\n",
              "      <td>49.000000</td>\n",
              "      <td>0.000000</td>\n",
              "      <td>712.000000</td>\n",
              "      <td>8.410442</td>\n",
              "      <td>8.00000</td>\n",
              "      <td>0.000000</td>\n",
              "      <td>0.000000</td>\n",
              "      <td>0.000000</td>\n",
              "      <td>1.000000</td>\n",
              "    </tr>\n",
              "    <tr>\n",
              "      <th>42859</th>\n",
              "      <td>0.322174</td>\n",
              "      <td>0.307214</td>\n",
              "      <td>53.000000</td>\n",
              "      <td>0.000000</td>\n",
              "      <td>0.503480</td>\n",
              "      <td>10200.000000</td>\n",
              "      <td>17.00000</td>\n",
              "      <td>0.000000</td>\n",
              "      <td>2.000000</td>\n",
              "      <td>0.000000</td>\n",
              "      <td>0.000000</td>\n",
              "    </tr>\n",
              "    <tr>\n",
              "      <th>42860</th>\n",
              "      <td>0.322174</td>\n",
              "      <td>0.090699</td>\n",
              "      <td>51.000000</td>\n",
              "      <td>0.000000</td>\n",
              "      <td>0.399641</td>\n",
              "      <td>16166.000000</td>\n",
              "      <td>17.00000</td>\n",
              "      <td>0.000000</td>\n",
              "      <td>2.000000</td>\n",
              "      <td>0.000000</td>\n",
              "      <td>3.000000</td>\n",
              "    </tr>\n",
              "    <tr>\n",
              "      <th>42861</th>\n",
              "      <td>0.322174</td>\n",
              "      <td>1.007000</td>\n",
              "      <td>0.243177</td>\n",
              "      <td>362.118183</td>\n",
              "      <td>6623.244507</td>\n",
              "      <td>8.410442</td>\n",
              "      <td>0.09263</td>\n",
              "      <td>1.016318</td>\n",
              "      <td>0.246931</td>\n",
              "      <td>0.757828</td>\n",
              "      <td>0.065157</td>\n",
              "    </tr>\n",
              "  </tbody>\n",
              "</table>\n",
              "<p>42862 rows × 11 columns</p>\n",
              "</div>"
            ],
            "text/plain": [
              "       revolvingutilizationofunsecuredlines  ...  numberoftime608-9dayspastduenotworse\n",
              "0                                  0.322174  ...                              0.000000\n",
              "1                                  0.322174  ...                              2.000000\n",
              "2                                  0.322174  ...                              2.000000\n",
              "3                                  0.322174  ...                              0.000000\n",
              "4                                  0.322174  ...                              1.000000\n",
              "...                                     ...  ...                                   ...\n",
              "42857                              0.322174  ...                              0.000000\n",
              "42858                              0.322174  ...                              1.000000\n",
              "42859                              0.322174  ...                              0.000000\n",
              "42860                              0.322174  ...                              3.000000\n",
              "42861                              0.322174  ...                              0.065157\n",
              "\n",
              "[42862 rows x 11 columns]"
            ]
          },
          "metadata": {
            "tags": []
          },
          "execution_count": 171
        }
      ]
    },
    {
      "cell_type": "code",
      "metadata": {
        "id": "GYmgSV1PHLRW"
      },
      "source": [
        "predictedValue = RSCV[1].best_estimator_.predict(test)"
      ],
      "execution_count": null,
      "outputs": []
    },
    {
      "cell_type": "code",
      "metadata": {
        "id": "NgkRVrGTH8Ny",
        "outputId": "cb1bf87f-e7c5-4df5-becc-1f5ba5bacd2c",
        "colab": {
          "base_uri": "https://localhost:8080/",
          "height": 34
        }
      },
      "source": [
        "predictedValue\n"
      ],
      "execution_count": null,
      "outputs": [
        {
          "output_type": "execute_result",
          "data": {
            "text/plain": [
              "array([1, 0, 1, ..., 0, 0, 0])"
            ]
          },
          "metadata": {
            "tags": []
          },
          "execution_count": 190
        }
      ]
    },
    {
      "cell_type": "code",
      "metadata": {
        "id": "YNOMciNrJXyW"
      },
      "source": [
        "Test_Labels_ANS = pd.DataFrame({'ID': test.index,'SeriousDlqin2yrs':predictedValue})"
      ],
      "execution_count": null,
      "outputs": []
    },
    {
      "cell_type": "code",
      "metadata": {
        "id": "yPuhi7nrJ_8p",
        "outputId": "ee480213-ef74-4275-cb29-c0469be8b2b8",
        "colab": {
          "base_uri": "https://localhost:8080/",
          "height": 419
        }
      },
      "source": [
        "Test_Labels_ANS"
      ],
      "execution_count": null,
      "outputs": [
        {
          "output_type": "execute_result",
          "data": {
            "text/html": [
              "<div>\n",
              "<style scoped>\n",
              "    .dataframe tbody tr th:only-of-type {\n",
              "        vertical-align: middle;\n",
              "    }\n",
              "\n",
              "    .dataframe tbody tr th {\n",
              "        vertical-align: top;\n",
              "    }\n",
              "\n",
              "    .dataframe thead th {\n",
              "        text-align: right;\n",
              "    }\n",
              "</style>\n",
              "<table border=\"1\" class=\"dataframe\">\n",
              "  <thead>\n",
              "    <tr style=\"text-align: right;\">\n",
              "      <th></th>\n",
              "      <th>ID</th>\n",
              "      <th>SeriousDlqin2yrs</th>\n",
              "    </tr>\n",
              "  </thead>\n",
              "  <tbody>\n",
              "    <tr>\n",
              "      <th>0</th>\n",
              "      <td>0</td>\n",
              "      <td>1</td>\n",
              "    </tr>\n",
              "    <tr>\n",
              "      <th>1</th>\n",
              "      <td>1</td>\n",
              "      <td>0</td>\n",
              "    </tr>\n",
              "    <tr>\n",
              "      <th>2</th>\n",
              "      <td>2</td>\n",
              "      <td>1</td>\n",
              "    </tr>\n",
              "    <tr>\n",
              "      <th>3</th>\n",
              "      <td>3</td>\n",
              "      <td>1</td>\n",
              "    </tr>\n",
              "    <tr>\n",
              "      <th>4</th>\n",
              "      <td>4</td>\n",
              "      <td>1</td>\n",
              "    </tr>\n",
              "    <tr>\n",
              "      <th>...</th>\n",
              "      <td>...</td>\n",
              "      <td>...</td>\n",
              "    </tr>\n",
              "    <tr>\n",
              "      <th>42857</th>\n",
              "      <td>42857</td>\n",
              "      <td>0</td>\n",
              "    </tr>\n",
              "    <tr>\n",
              "      <th>42858</th>\n",
              "      <td>42858</td>\n",
              "      <td>0</td>\n",
              "    </tr>\n",
              "    <tr>\n",
              "      <th>42859</th>\n",
              "      <td>42859</td>\n",
              "      <td>0</td>\n",
              "    </tr>\n",
              "    <tr>\n",
              "      <th>42860</th>\n",
              "      <td>42860</td>\n",
              "      <td>0</td>\n",
              "    </tr>\n",
              "    <tr>\n",
              "      <th>42861</th>\n",
              "      <td>42861</td>\n",
              "      <td>0</td>\n",
              "    </tr>\n",
              "  </tbody>\n",
              "</table>\n",
              "<p>42862 rows × 2 columns</p>\n",
              "</div>"
            ],
            "text/plain": [
              "          ID  SeriousDlqin2yrs\n",
              "0          0                 1\n",
              "1          1                 0\n",
              "2          2                 1\n",
              "3          3                 1\n",
              "4          4                 1\n",
              "...      ...               ...\n",
              "42857  42857                 0\n",
              "42858  42858                 0\n",
              "42859  42859                 0\n",
              "42860  42860                 0\n",
              "42861  42861                 0\n",
              "\n",
              "[42862 rows x 2 columns]"
            ]
          },
          "metadata": {
            "tags": []
          },
          "execution_count": 193
        }
      ]
    },
    {
      "cell_type": "code",
      "metadata": {
        "id": "JKS1k9R7IB42",
        "outputId": "5a3e71d0-4e6e-49f1-9143-1f2c6c19cf91",
        "colab": {
          "base_uri": "https://localhost:8080/",
          "height": 88
        }
      },
      "source": [
        "from sklearn.externals import joblib\n",
        "joblib.dump(RSCV[1],'Model.pkl')"
      ],
      "execution_count": null,
      "outputs": [
        {
          "output_type": "stream",
          "text": [
            "/usr/local/lib/python3.6/dist-packages/sklearn/externals/joblib/__init__.py:15: FutureWarning: sklearn.externals.joblib is deprecated in 0.21 and will be removed in 0.23. Please import this functionality directly from joblib, which can be installed with: pip install joblib. If this warning is raised when loading pickled models, you may need to re-serialize those models with scikit-learn 0.21+.\n",
            "  warnings.warn(msg, category=FutureWarning)\n"
          ],
          "name": "stderr"
        },
        {
          "output_type": "execute_result",
          "data": {
            "text/plain": [
              "['Model.pkl']"
            ]
          },
          "metadata": {
            "tags": []
          },
          "execution_count": 178
        }
      ]
    },
    {
      "cell_type": "code",
      "metadata": {
        "id": "2GPlEoDqIUFO"
      },
      "source": [
        "output.to_csv(\"./predictions_voting_Feature_transformation.csv\", index=False)"
      ],
      "execution_count": null,
      "outputs": []
    }
  ]
}